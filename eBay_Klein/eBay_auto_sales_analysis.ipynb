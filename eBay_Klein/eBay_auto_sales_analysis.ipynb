{
 "cells": [
  {
   "attachments": {},
   "cell_type": "markdown",
   "id": "6d2e410e",
   "metadata": {},
   "source": [
    "# Exploring eBay Car Sales Data"
   ]
  },
  {
   "attachments": {},
   "cell_type": "markdown",
   "id": "11138c3d",
   "metadata": {},
   "source": [
    "## Table of Contents\n",
    "\n",
    "1. [**Introduction**](#1)\n",
    "    - Project Description\n",
    "    - Data Description\n",
    "2. [**Acquiring and Loading Data**](#2)\n",
    "\t- Importing Libraries and Notebook Setup\n",
    "    - Loading Data\n",
    "    - Basic Data Exploration\n",
    "    - Areas to Fix\n",
    "3. [**Data Proprocessing**](#3)\n",
    "4. [**Exploratory Data Analysis**](#4)\n",
    "5. [**Conclusion**](#5)\n",
    "    - Insights\n",
    "    - Suggestions\n",
    "    - Possible Next Steps\n",
    "6. [**Epilogue**](#6) \n",
    "    - References\n",
    "    - Versioning"
   ]
  },
  {
   "attachments": {},
   "cell_type": "markdown",
   "id": "7f42c6c9",
   "metadata": {},
   "source": [
    "---"
   ]
  },
  {
   "cell_type": "markdown",
   "id": "5582744b",
   "metadata": {},
   "source": [
    "# 1"
   ]
  },
  {
   "attachments": {},
   "cell_type": "markdown",
   "id": "58c986fc",
   "metadata": {},
   "source": [
    "## Introduction\n",
    "\n",
    "![eBay Kleinanzeighen](\"/Users/aleciaduncan/Documents/GitHub/Data-Analysis/eBay_Klein/ebay_ger.png\")\n",
    "### Project Description\n",
    "\n",
    "**Goal/Purpose:** \n",
    "\n",
    "What is this project about? What is the the goal/purpose of this project? Why is it important for someone to read this notebook?\n",
    "This project aims to look at information about used car listings fromn a classifieds listing on the German eBay website. \n",
    "<p>&nbsp;</p>\n",
    "\n",
    "**Questions to be Answered:**\n",
    "\n",
    "- What brand of cars are most frequently sold on eBay?\n",
    "- What's the average price of cars sold on eBay?\n",
    "- What is the average amount of time car listings are up on eBay?\n",
    "\n",
    "<p>&nbsp;</p>\n",
    "\n",
    "**Assumptions/Methodology/Scope:** \n",
    "\n",
    "This data is originally in German, therefore it may be necessary to translate some values to English for clarity. \n",
    "\n",
    "<p>&nbsp;</p>\n",
    "\n",
    "### Data Description\n",
    "\n",
    "**Content:** \n",
    "\n",
    "This dataset describes used car listings from eBay Kleinanzeigen (a classifieds section of the German eBay website.) \n",
    "\n",
    "<p>&nbsp;</p>\n",
    "\n",
    "**Description of Attributes:** \n",
    "\n",
    "Here you can describe what each column represents.\n",
    "| Column  | Description |\n",
    "| :------ | :---------- |\n",
    "| dateCrawled | When this ad was first crawled. All field-values are taken from this date. |\n",
    "| name | Name of the car.|\n",
    "| seller | Whether the seller is private or a dealer.|\n",
    "| offerType | The type of listing sell the car. |\n",
    "| abtest | Whether the listing is included in an A/B test. |\n",
    "| vehicleType | The vehicle type. |\n",
    "| yearOfRegistration | The year in which the car was first registered. |\n",
    "| gearbox | The transmission type. |\n",
    "| powerPS | The power of the car in PS. |\n",
    "| model | The car model name. |\n",
    "| odometer | How many kilometers the car has driven. |\n",
    "| monthOfRegistration | The month in which the car was first registered. |\n",
    "| fuelType | What type of fuel the car uses.|\n",
    "| brand | The brand of the car. |\n",
    "| notRepairedDamage | If the car has any damage which is not yet repaired.|\n",
    "| dateCreated | The date on whihc the eBay listing was created.|\n",
    "| nrOfPictures | The number of pictures in the ad.|\n",
    "| postalCode | The postal code for the location of the vehicle.|\n",
    "| lastSeenOnline | When the crawler last saw this ad online.|\n",
    "\n",
    "\n",
    "<p>&nbsp;</p>\n",
    "\n",
    "**Acknowledgements:** \n",
    "This dataset was originally scraped and uploaded to Kaggle by user [ogresleka](https://www.kaggle.com/orgesleka). The data is no longer available on Kaggle but can be found [here](https://data.world/data-society/used-cars-data). For purposes of this project, the dataset has been reduced by DataQuest to a sampling of 50,000 data points. The dataset originally uploaded to Kaggle was quite clean, so this dataset was also \"dirtied\" to help more closely resemble a scraped dataset. "
   ]
  },
  {
   "attachments": {},
   "cell_type": "markdown",
   "id": "2a46158b",
   "metadata": {},
   "source": [
    "---"
   ]
  },
  {
   "cell_type": "markdown",
   "id": "27cb5f7b",
   "metadata": {},
   "source": [
    "# 2"
   ]
  },
  {
   "attachments": {},
   "cell_type": "markdown",
   "id": "5aff919e",
   "metadata": {},
   "source": [
    "## Acquiring and Loading Data\n",
    "### Importing Libraries and Notebook Setup"
   ]
  },
  {
   "cell_type": "code",
   "execution_count": 487,
   "id": "2d3c91f4",
   "metadata": {},
   "outputs": [],
   "source": [
    "# Ignore warnings if needed\n",
    "import warnings\n",
    "warnings.filterwarnings('ignore')\n",
    "\n",
    "# Data manipulation\n",
    "import datetime\n",
    "import numpy as np\n",
    "import pandas as pd\n",
    "\n",
    "# Pandas settings\n",
    "pd.options.display.max_columns = None\n",
    "pd.options.display.max_colwidth = 60\n",
    "pd.options.display.float_format = '{:,.2f}'.format"
   ]
  },
  {
   "attachments": {},
   "cell_type": "markdown",
   "id": "9b4388c3",
   "metadata": {},
   "source": [
    "### Loading Data"
   ]
  },
  {
   "cell_type": "code",
   "execution_count": 445,
   "id": "d9db55db",
   "metadata": {},
   "outputs": [],
   "source": [
    "# Load DataFrame\n",
    "file = 'autos.csv'\n",
    "autos = pd.read_csv(file, encoding = \"Latin-1\")"
   ]
  },
  {
   "attachments": {},
   "cell_type": "markdown",
   "id": "57cfe0e7",
   "metadata": {},
   "source": [
    "### Basic Data Exploration"
   ]
  },
  {
   "attachments": {},
   "cell_type": "markdown",
   "id": "1926c818",
   "metadata": {},
   "source": [
    "#### Number of Rows and Columns"
   ]
  },
  {
   "cell_type": "code",
   "execution_count": 446,
   "id": "4fa28f05",
   "metadata": {},
   "outputs": [
    {
     "name": "stdout",
     "output_type": "stream",
     "text": [
      "Rows count: 50000\n",
      "Columns count: 20\n"
     ]
    }
   ],
   "source": [
    "# Show rows and columns count\n",
    "print(f\"Rows count: {autos.shape[0]}\\nColumns count: {autos.shape[1]}\")"
   ]
  },
  {
   "attachments": {},
   "cell_type": "markdown",
   "id": "70bf95bb",
   "metadata": {},
   "source": [
    "#### Display First and Last Rows"
   ]
  },
  {
   "cell_type": "code",
   "execution_count": 447,
   "id": "e1fa1ba8",
   "metadata": {},
   "outputs": [
    {
     "data": {
      "text/html": [
       "<div>\n",
       "<style scoped>\n",
       "    .dataframe tbody tr th:only-of-type {\n",
       "        vertical-align: middle;\n",
       "    }\n",
       "\n",
       "    .dataframe tbody tr th {\n",
       "        vertical-align: top;\n",
       "    }\n",
       "\n",
       "    .dataframe thead th {\n",
       "        text-align: right;\n",
       "    }\n",
       "</style>\n",
       "<table border=\"1\" class=\"dataframe\">\n",
       "  <thead>\n",
       "    <tr style=\"text-align: right;\">\n",
       "      <th></th>\n",
       "      <th>dateCrawled</th>\n",
       "      <th>name</th>\n",
       "      <th>seller</th>\n",
       "      <th>offerType</th>\n",
       "      <th>price</th>\n",
       "      <th>abtest</th>\n",
       "      <th>vehicleType</th>\n",
       "      <th>yearOfRegistration</th>\n",
       "      <th>gearbox</th>\n",
       "      <th>powerPS</th>\n",
       "      <th>model</th>\n",
       "      <th>odometer</th>\n",
       "      <th>monthOfRegistration</th>\n",
       "      <th>fuelType</th>\n",
       "      <th>brand</th>\n",
       "      <th>notRepairedDamage</th>\n",
       "      <th>dateCreated</th>\n",
       "      <th>nrOfPictures</th>\n",
       "      <th>postalCode</th>\n",
       "      <th>lastSeen</th>\n",
       "    </tr>\n",
       "  </thead>\n",
       "  <tbody>\n",
       "    <tr>\n",
       "      <th>0</th>\n",
       "      <td>2016-03-26 17:47:46</td>\n",
       "      <td>Peugeot_807_160_NAVTECH_ON_BOARD</td>\n",
       "      <td>privat</td>\n",
       "      <td>Angebot</td>\n",
       "      <td>$5,000</td>\n",
       "      <td>control</td>\n",
       "      <td>bus</td>\n",
       "      <td>2004</td>\n",
       "      <td>manuell</td>\n",
       "      <td>158</td>\n",
       "      <td>andere</td>\n",
       "      <td>150,000km</td>\n",
       "      <td>3</td>\n",
       "      <td>lpg</td>\n",
       "      <td>peugeot</td>\n",
       "      <td>nein</td>\n",
       "      <td>2016-03-26 00:00:00</td>\n",
       "      <td>0</td>\n",
       "      <td>79588</td>\n",
       "      <td>2016-04-06 06:45:54</td>\n",
       "    </tr>\n",
       "    <tr>\n",
       "      <th>1</th>\n",
       "      <td>2016-04-04 13:38:56</td>\n",
       "      <td>BMW_740i_4_4_Liter_HAMANN_UMBAU_Mega_Optik</td>\n",
       "      <td>privat</td>\n",
       "      <td>Angebot</td>\n",
       "      <td>$8,500</td>\n",
       "      <td>control</td>\n",
       "      <td>limousine</td>\n",
       "      <td>1997</td>\n",
       "      <td>automatik</td>\n",
       "      <td>286</td>\n",
       "      <td>7er</td>\n",
       "      <td>150,000km</td>\n",
       "      <td>6</td>\n",
       "      <td>benzin</td>\n",
       "      <td>bmw</td>\n",
       "      <td>nein</td>\n",
       "      <td>2016-04-04 00:00:00</td>\n",
       "      <td>0</td>\n",
       "      <td>71034</td>\n",
       "      <td>2016-04-06 14:45:08</td>\n",
       "    </tr>\n",
       "    <tr>\n",
       "      <th>2</th>\n",
       "      <td>2016-03-26 18:57:24</td>\n",
       "      <td>Volkswagen_Golf_1.6_United</td>\n",
       "      <td>privat</td>\n",
       "      <td>Angebot</td>\n",
       "      <td>$8,990</td>\n",
       "      <td>test</td>\n",
       "      <td>limousine</td>\n",
       "      <td>2009</td>\n",
       "      <td>manuell</td>\n",
       "      <td>102</td>\n",
       "      <td>golf</td>\n",
       "      <td>70,000km</td>\n",
       "      <td>7</td>\n",
       "      <td>benzin</td>\n",
       "      <td>volkswagen</td>\n",
       "      <td>nein</td>\n",
       "      <td>2016-03-26 00:00:00</td>\n",
       "      <td>0</td>\n",
       "      <td>35394</td>\n",
       "      <td>2016-04-06 20:15:37</td>\n",
       "    </tr>\n",
       "    <tr>\n",
       "      <th>3</th>\n",
       "      <td>2016-03-12 16:58:10</td>\n",
       "      <td>Smart_smart_fortwo_coupe_softouch/F1/Klima/Panorama</td>\n",
       "      <td>privat</td>\n",
       "      <td>Angebot</td>\n",
       "      <td>$4,350</td>\n",
       "      <td>control</td>\n",
       "      <td>kleinwagen</td>\n",
       "      <td>2007</td>\n",
       "      <td>automatik</td>\n",
       "      <td>71</td>\n",
       "      <td>fortwo</td>\n",
       "      <td>70,000km</td>\n",
       "      <td>6</td>\n",
       "      <td>benzin</td>\n",
       "      <td>smart</td>\n",
       "      <td>nein</td>\n",
       "      <td>2016-03-12 00:00:00</td>\n",
       "      <td>0</td>\n",
       "      <td>33729</td>\n",
       "      <td>2016-03-15 03:16:28</td>\n",
       "    </tr>\n",
       "    <tr>\n",
       "      <th>4</th>\n",
       "      <td>2016-04-01 14:38:50</td>\n",
       "      <td>Ford_Focus_1_6_Benzin_TÜV_neu_ist_sehr_gepflegt.mit_Klim...</td>\n",
       "      <td>privat</td>\n",
       "      <td>Angebot</td>\n",
       "      <td>$1,350</td>\n",
       "      <td>test</td>\n",
       "      <td>kombi</td>\n",
       "      <td>2003</td>\n",
       "      <td>manuell</td>\n",
       "      <td>0</td>\n",
       "      <td>focus</td>\n",
       "      <td>150,000km</td>\n",
       "      <td>7</td>\n",
       "      <td>benzin</td>\n",
       "      <td>ford</td>\n",
       "      <td>nein</td>\n",
       "      <td>2016-04-01 00:00:00</td>\n",
       "      <td>0</td>\n",
       "      <td>39218</td>\n",
       "      <td>2016-04-01 14:38:50</td>\n",
       "    </tr>\n",
       "  </tbody>\n",
       "</table>\n",
       "</div>"
      ],
      "text/plain": [
       "           dateCrawled  \\\n",
       "0  2016-03-26 17:47:46   \n",
       "1  2016-04-04 13:38:56   \n",
       "2  2016-03-26 18:57:24   \n",
       "3  2016-03-12 16:58:10   \n",
       "4  2016-04-01 14:38:50   \n",
       "\n",
       "                                                          name  seller  \\\n",
       "0                             Peugeot_807_160_NAVTECH_ON_BOARD  privat   \n",
       "1                   BMW_740i_4_4_Liter_HAMANN_UMBAU_Mega_Optik  privat   \n",
       "2                                   Volkswagen_Golf_1.6_United  privat   \n",
       "3          Smart_smart_fortwo_coupe_softouch/F1/Klima/Panorama  privat   \n",
       "4  Ford_Focus_1_6_Benzin_TÜV_neu_ist_sehr_gepflegt.mit_Klim...  privat   \n",
       "\n",
       "  offerType   price   abtest vehicleType  yearOfRegistration    gearbox  \\\n",
       "0   Angebot  $5,000  control         bus                2004    manuell   \n",
       "1   Angebot  $8,500  control   limousine                1997  automatik   \n",
       "2   Angebot  $8,990     test   limousine                2009    manuell   \n",
       "3   Angebot  $4,350  control  kleinwagen                2007  automatik   \n",
       "4   Angebot  $1,350     test       kombi                2003    manuell   \n",
       "\n",
       "   powerPS   model   odometer  monthOfRegistration fuelType       brand  \\\n",
       "0      158  andere  150,000km                    3      lpg     peugeot   \n",
       "1      286     7er  150,000km                    6   benzin         bmw   \n",
       "2      102    golf   70,000km                    7   benzin  volkswagen   \n",
       "3       71  fortwo   70,000km                    6   benzin       smart   \n",
       "4        0   focus  150,000km                    7   benzin        ford   \n",
       "\n",
       "  notRepairedDamage          dateCreated  nrOfPictures  postalCode  \\\n",
       "0              nein  2016-03-26 00:00:00             0       79588   \n",
       "1              nein  2016-04-04 00:00:00             0       71034   \n",
       "2              nein  2016-03-26 00:00:00             0       35394   \n",
       "3              nein  2016-03-12 00:00:00             0       33729   \n",
       "4              nein  2016-04-01 00:00:00             0       39218   \n",
       "\n",
       "              lastSeen  \n",
       "0  2016-04-06 06:45:54  \n",
       "1  2016-04-06 14:45:08  \n",
       "2  2016-04-06 20:15:37  \n",
       "3  2016-03-15 03:16:28  \n",
       "4  2016-04-01 14:38:50  "
      ]
     },
     "execution_count": 447,
     "metadata": {},
     "output_type": "execute_result"
    }
   ],
   "source": [
    "# Look at first 5 rows\n",
    "autos.head()"
   ]
  },
  {
   "cell_type": "code",
   "execution_count": 448,
   "id": "53c7aa44",
   "metadata": {},
   "outputs": [
    {
     "data": {
      "text/html": [
       "<div>\n",
       "<style scoped>\n",
       "    .dataframe tbody tr th:only-of-type {\n",
       "        vertical-align: middle;\n",
       "    }\n",
       "\n",
       "    .dataframe tbody tr th {\n",
       "        vertical-align: top;\n",
       "    }\n",
       "\n",
       "    .dataframe thead th {\n",
       "        text-align: right;\n",
       "    }\n",
       "</style>\n",
       "<table border=\"1\" class=\"dataframe\">\n",
       "  <thead>\n",
       "    <tr style=\"text-align: right;\">\n",
       "      <th></th>\n",
       "      <th>dateCrawled</th>\n",
       "      <th>name</th>\n",
       "      <th>seller</th>\n",
       "      <th>offerType</th>\n",
       "      <th>price</th>\n",
       "      <th>abtest</th>\n",
       "      <th>vehicleType</th>\n",
       "      <th>yearOfRegistration</th>\n",
       "      <th>gearbox</th>\n",
       "      <th>powerPS</th>\n",
       "      <th>model</th>\n",
       "      <th>odometer</th>\n",
       "      <th>monthOfRegistration</th>\n",
       "      <th>fuelType</th>\n",
       "      <th>brand</th>\n",
       "      <th>notRepairedDamage</th>\n",
       "      <th>dateCreated</th>\n",
       "      <th>nrOfPictures</th>\n",
       "      <th>postalCode</th>\n",
       "      <th>lastSeen</th>\n",
       "    </tr>\n",
       "  </thead>\n",
       "  <tbody>\n",
       "    <tr>\n",
       "      <th>49995</th>\n",
       "      <td>2016-03-27 14:38:19</td>\n",
       "      <td>Audi_Q5_3.0_TDI_qu._S_tr.__Navi__Panorama__Xenon</td>\n",
       "      <td>privat</td>\n",
       "      <td>Angebot</td>\n",
       "      <td>$24,900</td>\n",
       "      <td>control</td>\n",
       "      <td>limousine</td>\n",
       "      <td>2011</td>\n",
       "      <td>automatik</td>\n",
       "      <td>239</td>\n",
       "      <td>q5</td>\n",
       "      <td>100,000km</td>\n",
       "      <td>1</td>\n",
       "      <td>diesel</td>\n",
       "      <td>audi</td>\n",
       "      <td>nein</td>\n",
       "      <td>2016-03-27 00:00:00</td>\n",
       "      <td>0</td>\n",
       "      <td>82131</td>\n",
       "      <td>2016-04-01 13:47:40</td>\n",
       "    </tr>\n",
       "    <tr>\n",
       "      <th>49996</th>\n",
       "      <td>2016-03-28 10:50:25</td>\n",
       "      <td>Opel_Astra_F_Cabrio_Bertone_Edition___TÜV_neu+Reifen_neu_!!</td>\n",
       "      <td>privat</td>\n",
       "      <td>Angebot</td>\n",
       "      <td>$1,980</td>\n",
       "      <td>control</td>\n",
       "      <td>cabrio</td>\n",
       "      <td>1996</td>\n",
       "      <td>manuell</td>\n",
       "      <td>75</td>\n",
       "      <td>astra</td>\n",
       "      <td>150,000km</td>\n",
       "      <td>5</td>\n",
       "      <td>benzin</td>\n",
       "      <td>opel</td>\n",
       "      <td>nein</td>\n",
       "      <td>2016-03-28 00:00:00</td>\n",
       "      <td>0</td>\n",
       "      <td>44807</td>\n",
       "      <td>2016-04-02 14:18:02</td>\n",
       "    </tr>\n",
       "    <tr>\n",
       "      <th>49997</th>\n",
       "      <td>2016-04-02 14:44:48</td>\n",
       "      <td>Fiat_500_C_1.2_Dualogic_Lounge</td>\n",
       "      <td>privat</td>\n",
       "      <td>Angebot</td>\n",
       "      <td>$13,200</td>\n",
       "      <td>test</td>\n",
       "      <td>cabrio</td>\n",
       "      <td>2014</td>\n",
       "      <td>automatik</td>\n",
       "      <td>69</td>\n",
       "      <td>500</td>\n",
       "      <td>5,000km</td>\n",
       "      <td>11</td>\n",
       "      <td>benzin</td>\n",
       "      <td>fiat</td>\n",
       "      <td>nein</td>\n",
       "      <td>2016-04-02 00:00:00</td>\n",
       "      <td>0</td>\n",
       "      <td>73430</td>\n",
       "      <td>2016-04-04 11:47:27</td>\n",
       "    </tr>\n",
       "    <tr>\n",
       "      <th>49998</th>\n",
       "      <td>2016-03-08 19:25:42</td>\n",
       "      <td>Audi_A3_2.0_TDI_Sportback_Ambition</td>\n",
       "      <td>privat</td>\n",
       "      <td>Angebot</td>\n",
       "      <td>$22,900</td>\n",
       "      <td>control</td>\n",
       "      <td>kombi</td>\n",
       "      <td>2013</td>\n",
       "      <td>manuell</td>\n",
       "      <td>150</td>\n",
       "      <td>a3</td>\n",
       "      <td>40,000km</td>\n",
       "      <td>11</td>\n",
       "      <td>diesel</td>\n",
       "      <td>audi</td>\n",
       "      <td>nein</td>\n",
       "      <td>2016-03-08 00:00:00</td>\n",
       "      <td>0</td>\n",
       "      <td>35683</td>\n",
       "      <td>2016-04-05 16:45:07</td>\n",
       "    </tr>\n",
       "    <tr>\n",
       "      <th>49999</th>\n",
       "      <td>2016-03-14 00:42:12</td>\n",
       "      <td>Opel_Vectra_1.6_16V</td>\n",
       "      <td>privat</td>\n",
       "      <td>Angebot</td>\n",
       "      <td>$1,250</td>\n",
       "      <td>control</td>\n",
       "      <td>limousine</td>\n",
       "      <td>1996</td>\n",
       "      <td>manuell</td>\n",
       "      <td>101</td>\n",
       "      <td>vectra</td>\n",
       "      <td>150,000km</td>\n",
       "      <td>1</td>\n",
       "      <td>benzin</td>\n",
       "      <td>opel</td>\n",
       "      <td>nein</td>\n",
       "      <td>2016-03-13 00:00:00</td>\n",
       "      <td>0</td>\n",
       "      <td>45897</td>\n",
       "      <td>2016-04-06 21:18:48</td>\n",
       "    </tr>\n",
       "  </tbody>\n",
       "</table>\n",
       "</div>"
      ],
      "text/plain": [
       "               dateCrawled  \\\n",
       "49995  2016-03-27 14:38:19   \n",
       "49996  2016-03-28 10:50:25   \n",
       "49997  2016-04-02 14:44:48   \n",
       "49998  2016-03-08 19:25:42   \n",
       "49999  2016-03-14 00:42:12   \n",
       "\n",
       "                                                              name  seller  \\\n",
       "49995             Audi_Q5_3.0_TDI_qu._S_tr.__Navi__Panorama__Xenon  privat   \n",
       "49996  Opel_Astra_F_Cabrio_Bertone_Edition___TÜV_neu+Reifen_neu_!!  privat   \n",
       "49997                               Fiat_500_C_1.2_Dualogic_Lounge  privat   \n",
       "49998                           Audi_A3_2.0_TDI_Sportback_Ambition  privat   \n",
       "49999                                          Opel_Vectra_1.6_16V  privat   \n",
       "\n",
       "      offerType    price   abtest vehicleType  yearOfRegistration    gearbox  \\\n",
       "49995   Angebot  $24,900  control   limousine                2011  automatik   \n",
       "49996   Angebot   $1,980  control      cabrio                1996    manuell   \n",
       "49997   Angebot  $13,200     test      cabrio                2014  automatik   \n",
       "49998   Angebot  $22,900  control       kombi                2013    manuell   \n",
       "49999   Angebot   $1,250  control   limousine                1996    manuell   \n",
       "\n",
       "       powerPS   model   odometer  monthOfRegistration fuelType brand  \\\n",
       "49995      239      q5  100,000km                    1   diesel  audi   \n",
       "49996       75   astra  150,000km                    5   benzin  opel   \n",
       "49997       69     500    5,000km                   11   benzin  fiat   \n",
       "49998      150      a3   40,000km                   11   diesel  audi   \n",
       "49999      101  vectra  150,000km                    1   benzin  opel   \n",
       "\n",
       "      notRepairedDamage          dateCreated  nrOfPictures  postalCode  \\\n",
       "49995              nein  2016-03-27 00:00:00             0       82131   \n",
       "49996              nein  2016-03-28 00:00:00             0       44807   \n",
       "49997              nein  2016-04-02 00:00:00             0       73430   \n",
       "49998              nein  2016-03-08 00:00:00             0       35683   \n",
       "49999              nein  2016-03-13 00:00:00             0       45897   \n",
       "\n",
       "                  lastSeen  \n",
       "49995  2016-04-01 13:47:40  \n",
       "49996  2016-04-02 14:18:02  \n",
       "49997  2016-04-04 11:47:27  \n",
       "49998  2016-04-05 16:45:07  \n",
       "49999  2016-04-06 21:18:48  "
      ]
     },
     "execution_count": 448,
     "metadata": {},
     "output_type": "execute_result"
    }
   ],
   "source": [
    "# Look at last 5 rows\n",
    "autos.tail()"
   ]
  },
  {
   "attachments": {},
   "cell_type": "markdown",
   "id": "11e8e96f",
   "metadata": {},
   "source": [
    "#### Check Data Types"
   ]
  },
  {
   "cell_type": "code",
   "execution_count": 449,
   "id": "47b0d2fc",
   "metadata": {},
   "outputs": [
    {
     "name": "stdout",
     "output_type": "stream",
     "text": [
      "<class 'pandas.core.frame.DataFrame'>\n",
      "RangeIndex: 50000 entries, 0 to 49999\n",
      "Data columns (total 20 columns):\n",
      " #   Column               Non-Null Count  Dtype \n",
      "---  ------               --------------  ----- \n",
      " 0   dateCrawled          50000 non-null  object\n",
      " 1   name                 50000 non-null  object\n",
      " 2   seller               50000 non-null  object\n",
      " 3   offerType            50000 non-null  object\n",
      " 4   price                50000 non-null  object\n",
      " 5   abtest               50000 non-null  object\n",
      " 6   vehicleType          44905 non-null  object\n",
      " 7   yearOfRegistration   50000 non-null  int64 \n",
      " 8   gearbox              47320 non-null  object\n",
      " 9   powerPS              50000 non-null  int64 \n",
      " 10  model                47242 non-null  object\n",
      " 11  odometer             50000 non-null  object\n",
      " 12  monthOfRegistration  50000 non-null  int64 \n",
      " 13  fuelType             45518 non-null  object\n",
      " 14  brand                50000 non-null  object\n",
      " 15  notRepairedDamage    40171 non-null  object\n",
      " 16  dateCreated          50000 non-null  object\n",
      " 17  nrOfPictures         50000 non-null  int64 \n",
      " 18  postalCode           50000 non-null  int64 \n",
      " 19  lastSeen             50000 non-null  object\n",
      "dtypes: int64(5), object(15)\n",
      "memory usage: 7.6+ MB\n"
     ]
    }
   ],
   "source": [
    "# Show data types\n",
    "autos.info()"
   ]
  },
  {
   "attachments": {},
   "cell_type": "markdown",
   "id": "76ca447a",
   "metadata": {},
   "source": [
    "- all column names use a modified CamelCase, or a mixedCase, naming convention and will be changed to snake_case.\n",
    "- a few column names can be renamed in a way that is just as informative but more concise.\n",
    "- `yearOfRegistration`, `powerPS`, `monthOfRegistration`, `nrOfPictures`, and `postalCode` are **integers**.\n",
    "- the other 15 columns are **strings**.\n",
    "- `vehicleType`, `fuelType`, `model`, `gearbox` and `vehicleType` all contain null values and will need additional exploration.\n",
    "\n"
   ]
  },
  {
   "attachments": {},
   "cell_type": "markdown",
   "id": "c859deaf",
   "metadata": {},
   "source": [
    "#### Check Missing Data"
   ]
  },
  {
   "cell_type": "code",
   "execution_count": 450,
   "id": "969ad268",
   "metadata": {},
   "outputs": [
    {
     "name": "stdout",
     "output_type": "stream",
     "text": [
      "---- Percentage of Missing Values (%) -----\n",
      "notRepairedDamage   19.658\n",
      "vehicleType         10.190\n",
      "fuelType             8.964\n",
      "model                5.516\n",
      "gearbox              5.360\n",
      "dtype: float64\n"
     ]
    }
   ],
   "source": [
    "# Print percentage of missing values\n",
    "missing_percent = autos.isna().mean().sort_values(ascending=False)\n",
    "print('---- Percentage of Missing Values (%) -----')\n",
    "if missing_percent.sum():\n",
    "    print(missing_percent[missing_percent > 0] * 100)\n",
    "else:\n",
    "    print(None)"
   ]
  },
  {
   "attachments": {},
   "cell_type": "markdown",
   "id": "5c454485",
   "metadata": {},
   "source": [
    "#### Check for Duplicate Rows"
   ]
  },
  {
   "cell_type": "code",
   "execution_count": 451,
   "id": "9c25cacd",
   "metadata": {},
   "outputs": [
    {
     "name": "stdout",
     "output_type": "stream",
     "text": [
      "No. of entirely duplicated rows: 0\n"
     ]
    },
    {
     "data": {
      "text/html": [
       "<div>\n",
       "<style scoped>\n",
       "    .dataframe tbody tr th:only-of-type {\n",
       "        vertical-align: middle;\n",
       "    }\n",
       "\n",
       "    .dataframe tbody tr th {\n",
       "        vertical-align: top;\n",
       "    }\n",
       "\n",
       "    .dataframe thead th {\n",
       "        text-align: right;\n",
       "    }\n",
       "</style>\n",
       "<table border=\"1\" class=\"dataframe\">\n",
       "  <thead>\n",
       "    <tr style=\"text-align: right;\">\n",
       "      <th></th>\n",
       "      <th>dateCrawled</th>\n",
       "      <th>name</th>\n",
       "      <th>seller</th>\n",
       "      <th>offerType</th>\n",
       "      <th>price</th>\n",
       "      <th>abtest</th>\n",
       "      <th>vehicleType</th>\n",
       "      <th>yearOfRegistration</th>\n",
       "      <th>gearbox</th>\n",
       "      <th>powerPS</th>\n",
       "      <th>model</th>\n",
       "      <th>odometer</th>\n",
       "      <th>monthOfRegistration</th>\n",
       "      <th>fuelType</th>\n",
       "      <th>brand</th>\n",
       "      <th>notRepairedDamage</th>\n",
       "      <th>dateCreated</th>\n",
       "      <th>nrOfPictures</th>\n",
       "      <th>postalCode</th>\n",
       "      <th>lastSeen</th>\n",
       "    </tr>\n",
       "  </thead>\n",
       "  <tbody>\n",
       "  </tbody>\n",
       "</table>\n",
       "</div>"
      ],
      "text/plain": [
       "Empty DataFrame\n",
       "Columns: [dateCrawled, name, seller, offerType, price, abtest, vehicleType, yearOfRegistration, gearbox, powerPS, model, odometer, monthOfRegistration, fuelType, brand, notRepairedDamage, dateCreated, nrOfPictures, postalCode, lastSeen]\n",
       "Index: []"
      ]
     },
     "execution_count": 451,
     "metadata": {},
     "output_type": "execute_result"
    }
   ],
   "source": [
    "# Show number of duplicated rows\n",
    "print(f\"No. of entirely duplicated rows: {autos.duplicated().sum()}\")\n",
    "\n",
    "# Show duplicated rows\n",
    "autos[autos.duplicated()]"
   ]
  },
  {
   "attachments": {},
   "cell_type": "markdown",
   "id": "8d11d5a3",
   "metadata": {},
   "source": [
    "#### Check Uniqueness of Data"
   ]
  },
  {
   "cell_type": "code",
   "execution_count": 452,
   "id": "4c863f15",
   "metadata": {},
   "outputs": [
    {
     "name": "stdout",
     "output_type": "stream",
     "text": [
      "---- Number of Unique Values -----\n",
      "nrOfPictures               1\n",
      "notRepairedDamage          2\n",
      "abtest                     2\n",
      "gearbox                    2\n",
      "seller                     2\n",
      "offerType                  2\n",
      "fuelType                   7\n",
      "vehicleType                8\n",
      "odometer                  13\n",
      "monthOfRegistration       13\n",
      "brand                     40\n",
      "dateCreated               76\n",
      "yearOfRegistration        97\n",
      "model                    245\n",
      "powerPS                  448\n",
      "price                   2357\n",
      "postalCode              7014\n",
      "name                   38754\n",
      "lastSeen               39481\n",
      "dateCrawled            48213\n",
      "dtype: int64\n"
     ]
    }
   ],
   "source": [
    "# Print the number of unique values\n",
    "num_unique = autos.nunique().sort_values()\n",
    "print('---- Number of Unique Values -----')\n",
    "print(num_unique)"
   ]
  },
  {
   "attachments": {},
   "cell_type": "markdown",
   "id": "d4656ff2",
   "metadata": {},
   "source": [
    "#### Check Data Range"
   ]
  },
  {
   "cell_type": "code",
   "execution_count": 453,
   "id": "ea776072",
   "metadata": {},
   "outputs": [
    {
     "data": {
      "text/html": [
       "<div>\n",
       "<style scoped>\n",
       "    .dataframe tbody tr th:only-of-type {\n",
       "        vertical-align: middle;\n",
       "    }\n",
       "\n",
       "    .dataframe tbody tr th {\n",
       "        vertical-align: top;\n",
       "    }\n",
       "\n",
       "    .dataframe thead th {\n",
       "        text-align: right;\n",
       "    }\n",
       "</style>\n",
       "<table border=\"1\" class=\"dataframe\">\n",
       "  <thead>\n",
       "    <tr style=\"text-align: right;\">\n",
       "      <th></th>\n",
       "      <th>dateCrawled</th>\n",
       "      <th>name</th>\n",
       "      <th>seller</th>\n",
       "      <th>offerType</th>\n",
       "      <th>price</th>\n",
       "      <th>abtest</th>\n",
       "      <th>vehicleType</th>\n",
       "      <th>yearOfRegistration</th>\n",
       "      <th>gearbox</th>\n",
       "      <th>powerPS</th>\n",
       "      <th>model</th>\n",
       "      <th>odometer</th>\n",
       "      <th>monthOfRegistration</th>\n",
       "      <th>fuelType</th>\n",
       "      <th>brand</th>\n",
       "      <th>notRepairedDamage</th>\n",
       "      <th>dateCreated</th>\n",
       "      <th>nrOfPictures</th>\n",
       "      <th>postalCode</th>\n",
       "      <th>lastSeen</th>\n",
       "    </tr>\n",
       "  </thead>\n",
       "  <tbody>\n",
       "    <tr>\n",
       "      <th>count</th>\n",
       "      <td>50000</td>\n",
       "      <td>50000</td>\n",
       "      <td>50000</td>\n",
       "      <td>50000</td>\n",
       "      <td>50000</td>\n",
       "      <td>50000</td>\n",
       "      <td>44905</td>\n",
       "      <td>50,000.000</td>\n",
       "      <td>47320</td>\n",
       "      <td>50,000.000</td>\n",
       "      <td>47242</td>\n",
       "      <td>50000</td>\n",
       "      <td>50,000.000</td>\n",
       "      <td>45518</td>\n",
       "      <td>50000</td>\n",
       "      <td>40171</td>\n",
       "      <td>50000</td>\n",
       "      <td>50,000.000</td>\n",
       "      <td>50,000.000</td>\n",
       "      <td>50000</td>\n",
       "    </tr>\n",
       "    <tr>\n",
       "      <th>unique</th>\n",
       "      <td>48213</td>\n",
       "      <td>38754</td>\n",
       "      <td>2</td>\n",
       "      <td>2</td>\n",
       "      <td>2357</td>\n",
       "      <td>2</td>\n",
       "      <td>8</td>\n",
       "      <td>NaN</td>\n",
       "      <td>2</td>\n",
       "      <td>NaN</td>\n",
       "      <td>245</td>\n",
       "      <td>13</td>\n",
       "      <td>NaN</td>\n",
       "      <td>7</td>\n",
       "      <td>40</td>\n",
       "      <td>2</td>\n",
       "      <td>76</td>\n",
       "      <td>NaN</td>\n",
       "      <td>NaN</td>\n",
       "      <td>39481</td>\n",
       "    </tr>\n",
       "    <tr>\n",
       "      <th>top</th>\n",
       "      <td>2016-04-02 11:37:04</td>\n",
       "      <td>Ford_Fiesta</td>\n",
       "      <td>privat</td>\n",
       "      <td>Angebot</td>\n",
       "      <td>$0</td>\n",
       "      <td>test</td>\n",
       "      <td>limousine</td>\n",
       "      <td>NaN</td>\n",
       "      <td>manuell</td>\n",
       "      <td>NaN</td>\n",
       "      <td>golf</td>\n",
       "      <td>150,000km</td>\n",
       "      <td>NaN</td>\n",
       "      <td>benzin</td>\n",
       "      <td>volkswagen</td>\n",
       "      <td>nein</td>\n",
       "      <td>2016-04-03 00:00:00</td>\n",
       "      <td>NaN</td>\n",
       "      <td>NaN</td>\n",
       "      <td>2016-04-07 06:17:27</td>\n",
       "    </tr>\n",
       "    <tr>\n",
       "      <th>freq</th>\n",
       "      <td>3</td>\n",
       "      <td>78</td>\n",
       "      <td>49999</td>\n",
       "      <td>49999</td>\n",
       "      <td>1421</td>\n",
       "      <td>25756</td>\n",
       "      <td>12859</td>\n",
       "      <td>NaN</td>\n",
       "      <td>36993</td>\n",
       "      <td>NaN</td>\n",
       "      <td>4024</td>\n",
       "      <td>32424</td>\n",
       "      <td>NaN</td>\n",
       "      <td>30107</td>\n",
       "      <td>10687</td>\n",
       "      <td>35232</td>\n",
       "      <td>1946</td>\n",
       "      <td>NaN</td>\n",
       "      <td>NaN</td>\n",
       "      <td>8</td>\n",
       "    </tr>\n",
       "    <tr>\n",
       "      <th>mean</th>\n",
       "      <td>NaN</td>\n",
       "      <td>NaN</td>\n",
       "      <td>NaN</td>\n",
       "      <td>NaN</td>\n",
       "      <td>NaN</td>\n",
       "      <td>NaN</td>\n",
       "      <td>NaN</td>\n",
       "      <td>2,005.073</td>\n",
       "      <td>NaN</td>\n",
       "      <td>116.356</td>\n",
       "      <td>NaN</td>\n",
       "      <td>NaN</td>\n",
       "      <td>5.723</td>\n",
       "      <td>NaN</td>\n",
       "      <td>NaN</td>\n",
       "      <td>NaN</td>\n",
       "      <td>NaN</td>\n",
       "      <td>0.000</td>\n",
       "      <td>50,813.627</td>\n",
       "      <td>NaN</td>\n",
       "    </tr>\n",
       "    <tr>\n",
       "      <th>std</th>\n",
       "      <td>NaN</td>\n",
       "      <td>NaN</td>\n",
       "      <td>NaN</td>\n",
       "      <td>NaN</td>\n",
       "      <td>NaN</td>\n",
       "      <td>NaN</td>\n",
       "      <td>NaN</td>\n",
       "      <td>105.713</td>\n",
       "      <td>NaN</td>\n",
       "      <td>209.217</td>\n",
       "      <td>NaN</td>\n",
       "      <td>NaN</td>\n",
       "      <td>3.712</td>\n",
       "      <td>NaN</td>\n",
       "      <td>NaN</td>\n",
       "      <td>NaN</td>\n",
       "      <td>NaN</td>\n",
       "      <td>0.000</td>\n",
       "      <td>25,779.748</td>\n",
       "      <td>NaN</td>\n",
       "    </tr>\n",
       "    <tr>\n",
       "      <th>min</th>\n",
       "      <td>NaN</td>\n",
       "      <td>NaN</td>\n",
       "      <td>NaN</td>\n",
       "      <td>NaN</td>\n",
       "      <td>NaN</td>\n",
       "      <td>NaN</td>\n",
       "      <td>NaN</td>\n",
       "      <td>1,000.000</td>\n",
       "      <td>NaN</td>\n",
       "      <td>0.000</td>\n",
       "      <td>NaN</td>\n",
       "      <td>NaN</td>\n",
       "      <td>0.000</td>\n",
       "      <td>NaN</td>\n",
       "      <td>NaN</td>\n",
       "      <td>NaN</td>\n",
       "      <td>NaN</td>\n",
       "      <td>0.000</td>\n",
       "      <td>1,067.000</td>\n",
       "      <td>NaN</td>\n",
       "    </tr>\n",
       "    <tr>\n",
       "      <th>25%</th>\n",
       "      <td>NaN</td>\n",
       "      <td>NaN</td>\n",
       "      <td>NaN</td>\n",
       "      <td>NaN</td>\n",
       "      <td>NaN</td>\n",
       "      <td>NaN</td>\n",
       "      <td>NaN</td>\n",
       "      <td>1,999.000</td>\n",
       "      <td>NaN</td>\n",
       "      <td>70.000</td>\n",
       "      <td>NaN</td>\n",
       "      <td>NaN</td>\n",
       "      <td>3.000</td>\n",
       "      <td>NaN</td>\n",
       "      <td>NaN</td>\n",
       "      <td>NaN</td>\n",
       "      <td>NaN</td>\n",
       "      <td>0.000</td>\n",
       "      <td>30,451.000</td>\n",
       "      <td>NaN</td>\n",
       "    </tr>\n",
       "    <tr>\n",
       "      <th>50%</th>\n",
       "      <td>NaN</td>\n",
       "      <td>NaN</td>\n",
       "      <td>NaN</td>\n",
       "      <td>NaN</td>\n",
       "      <td>NaN</td>\n",
       "      <td>NaN</td>\n",
       "      <td>NaN</td>\n",
       "      <td>2,003.000</td>\n",
       "      <td>NaN</td>\n",
       "      <td>105.000</td>\n",
       "      <td>NaN</td>\n",
       "      <td>NaN</td>\n",
       "      <td>6.000</td>\n",
       "      <td>NaN</td>\n",
       "      <td>NaN</td>\n",
       "      <td>NaN</td>\n",
       "      <td>NaN</td>\n",
       "      <td>0.000</td>\n",
       "      <td>49,577.000</td>\n",
       "      <td>NaN</td>\n",
       "    </tr>\n",
       "    <tr>\n",
       "      <th>75%</th>\n",
       "      <td>NaN</td>\n",
       "      <td>NaN</td>\n",
       "      <td>NaN</td>\n",
       "      <td>NaN</td>\n",
       "      <td>NaN</td>\n",
       "      <td>NaN</td>\n",
       "      <td>NaN</td>\n",
       "      <td>2,008.000</td>\n",
       "      <td>NaN</td>\n",
       "      <td>150.000</td>\n",
       "      <td>NaN</td>\n",
       "      <td>NaN</td>\n",
       "      <td>9.000</td>\n",
       "      <td>NaN</td>\n",
       "      <td>NaN</td>\n",
       "      <td>NaN</td>\n",
       "      <td>NaN</td>\n",
       "      <td>0.000</td>\n",
       "      <td>71,540.000</td>\n",
       "      <td>NaN</td>\n",
       "    </tr>\n",
       "    <tr>\n",
       "      <th>max</th>\n",
       "      <td>NaN</td>\n",
       "      <td>NaN</td>\n",
       "      <td>NaN</td>\n",
       "      <td>NaN</td>\n",
       "      <td>NaN</td>\n",
       "      <td>NaN</td>\n",
       "      <td>NaN</td>\n",
       "      <td>9,999.000</td>\n",
       "      <td>NaN</td>\n",
       "      <td>17,700.000</td>\n",
       "      <td>NaN</td>\n",
       "      <td>NaN</td>\n",
       "      <td>12.000</td>\n",
       "      <td>NaN</td>\n",
       "      <td>NaN</td>\n",
       "      <td>NaN</td>\n",
       "      <td>NaN</td>\n",
       "      <td>0.000</td>\n",
       "      <td>99,998.000</td>\n",
       "      <td>NaN</td>\n",
       "    </tr>\n",
       "  </tbody>\n",
       "</table>\n",
       "</div>"
      ],
      "text/plain": [
       "                dateCrawled         name  seller offerType  price abtest  \\\n",
       "count                 50000        50000   50000     50000  50000  50000   \n",
       "unique                48213        38754       2         2   2357      2   \n",
       "top     2016-04-02 11:37:04  Ford_Fiesta  privat   Angebot     $0   test   \n",
       "freq                      3           78   49999     49999   1421  25756   \n",
       "mean                    NaN          NaN     NaN       NaN    NaN    NaN   \n",
       "std                     NaN          NaN     NaN       NaN    NaN    NaN   \n",
       "min                     NaN          NaN     NaN       NaN    NaN    NaN   \n",
       "25%                     NaN          NaN     NaN       NaN    NaN    NaN   \n",
       "50%                     NaN          NaN     NaN       NaN    NaN    NaN   \n",
       "75%                     NaN          NaN     NaN       NaN    NaN    NaN   \n",
       "max                     NaN          NaN     NaN       NaN    NaN    NaN   \n",
       "\n",
       "       vehicleType  yearOfRegistration  gearbox    powerPS  model   odometer  \\\n",
       "count        44905          50,000.000    47320 50,000.000  47242      50000   \n",
       "unique           8                 NaN        2        NaN    245         13   \n",
       "top      limousine                 NaN  manuell        NaN   golf  150,000km   \n",
       "freq         12859                 NaN    36993        NaN   4024      32424   \n",
       "mean           NaN           2,005.073      NaN    116.356    NaN        NaN   \n",
       "std            NaN             105.713      NaN    209.217    NaN        NaN   \n",
       "min            NaN           1,000.000      NaN      0.000    NaN        NaN   \n",
       "25%            NaN           1,999.000      NaN     70.000    NaN        NaN   \n",
       "50%            NaN           2,003.000      NaN    105.000    NaN        NaN   \n",
       "75%            NaN           2,008.000      NaN    150.000    NaN        NaN   \n",
       "max            NaN           9,999.000      NaN 17,700.000    NaN        NaN   \n",
       "\n",
       "        monthOfRegistration fuelType       brand notRepairedDamage  \\\n",
       "count            50,000.000    45518       50000             40171   \n",
       "unique                  NaN        7          40                 2   \n",
       "top                     NaN   benzin  volkswagen              nein   \n",
       "freq                    NaN    30107       10687             35232   \n",
       "mean                  5.723      NaN         NaN               NaN   \n",
       "std                   3.712      NaN         NaN               NaN   \n",
       "min                   0.000      NaN         NaN               NaN   \n",
       "25%                   3.000      NaN         NaN               NaN   \n",
       "50%                   6.000      NaN         NaN               NaN   \n",
       "75%                   9.000      NaN         NaN               NaN   \n",
       "max                  12.000      NaN         NaN               NaN   \n",
       "\n",
       "                dateCreated  nrOfPictures  postalCode             lastSeen  \n",
       "count                 50000    50,000.000  50,000.000                50000  \n",
       "unique                   76           NaN         NaN                39481  \n",
       "top     2016-04-03 00:00:00           NaN         NaN  2016-04-07 06:17:27  \n",
       "freq                   1946           NaN         NaN                    8  \n",
       "mean                    NaN         0.000  50,813.627                  NaN  \n",
       "std                     NaN         0.000  25,779.748                  NaN  \n",
       "min                     NaN         0.000   1,067.000                  NaN  \n",
       "25%                     NaN         0.000  30,451.000                  NaN  \n",
       "50%                     NaN         0.000  49,577.000                  NaN  \n",
       "75%                     NaN         0.000  71,540.000                  NaN  \n",
       "max                     NaN         0.000  99,998.000                  NaN  "
      ]
     },
     "execution_count": 453,
     "metadata": {},
     "output_type": "execute_result"
    }
   ],
   "source": [
    "# Print summary statistics\n",
    "autos.describe(include='all')"
   ]
  },
  {
   "attachments": {},
   "cell_type": "markdown",
   "id": "b5bd35fa",
   "metadata": {},
   "source": [
    "### Areas to Fix\n",
    "**Data Types**\n",
    "- `odometer`, `price` columns need to be converted from strings to integers and floats respectively\n",
    "- `dateCrawled`, `yearOfRegistration`, `monthOfRegistration`, and `last_seen` should all be converted to datetime datatypes\n",
    "- `postalCode` is listed as an integer and calculations were made accordingly, because of the type of data a postal code is this may be better suited as a string datatype\n",
    "\n",
    "**Missing Data**\n",
    "- `unrepaired_damage` is missing 19.658% of it's data, need to check to see if missing values are indicative of $0 unrepaird damage or some other issue\n",
    "- `vehicle_type` is missing 10.190% of it's data, these rows may need to be removed \n",
    "- `fuel_type` 8.964%\n",
    "- `model` 5.516%\n",
    "- `gearbox` 5.360%\n",
    "\n",
    "**Duplicate Rows**\n",
    "- no duplicated rows\n",
    "\n",
    "**Uniqueness of Data**\n",
    "- `numPictures` only has one unique value and can be dropped\n",
    "- `seller` and `offer_type` columns only have 2 unique values, when looking at the frequency of the top value it can be seen that 49,999 of the 50,000 are the same. both of these columns are redundant and can be dropped, will confirm with a redundancy \n",
    "- `abtest`, `gearbox` and `notRepairedDamage` only have 2 unique values but each with significant amounts - additional exploration necessary\n",
    "\n",
    "\n",
    "**Data Range**\n",
    "- `yearOfRegistration` appears to have minimum and maximum values exceeding reasonable years for these listings\n",
    "- `powerPS` has a minimum value of 0 and a maximum value of 17,700, but the values at the 25th and 75th percentile indicate the column as a whole trends far below the maximum - additional exploration necessary"
   ]
  },
  {
   "attachments": {},
   "cell_type": "markdown",
   "id": "d72d4d40",
   "metadata": {},
   "source": [
    "---"
   ]
  },
  {
   "cell_type": "markdown",
   "id": "e7fa95fc",
   "metadata": {},
   "source": [
    "# 3"
   ]
  },
  {
   "attachments": {},
   "cell_type": "markdown",
   "id": "017baefc",
   "metadata": {},
   "source": [
    "## Data Preprocessing"
   ]
  },
  {
   "attachments": {},
   "cell_type": "markdown",
   "id": "09f3d915",
   "metadata": {},
   "source": [
    "### Rename Columns"
   ]
  },
  {
   "cell_type": "code",
   "execution_count": 454,
   "id": "ac115863",
   "metadata": {},
   "outputs": [],
   "source": [
    "# Rename columns\n",
    "new_columns = ['date_crawled', 'name', 'seller', 'offer_type', 'price', 'abtest',\n",
    "       'vehicle_type', 'registration_year', 'gearbox', 'powerPS', 'model',\n",
    "       'odometer', 'registration_month', 'fuel_type', 'brand',\n",
    "       'unrepaired_damage', 'ad_created', 'num_pictures', 'postal_code',\n",
    "       'last_seen']\n",
    "autos.columns = new_columns"
   ]
  },
  {
   "cell_type": "code",
   "execution_count": 455,
   "id": "e24457a7",
   "metadata": {},
   "outputs": [
    {
     "data": {
      "text/plain": [
       "Index(['date_crawled', 'name', 'seller', 'offer_type', 'price', 'abtest',\n",
       "       'vehicle_type', 'registration_year', 'gearbox', 'powerPS', 'model',\n",
       "       'odometer', 'registration_month', 'fuel_type', 'brand',\n",
       "       'unrepaired_damage', 'ad_created', 'num_pictures', 'postal_code',\n",
       "       'last_seen'],\n",
       "      dtype='object')"
      ]
     },
     "execution_count": 455,
     "metadata": {},
     "output_type": "execute_result"
    }
   ],
   "source": [
    "# Verify columns are renamed\n",
    "autos.columns"
   ]
  },
  {
   "attachments": {},
   "cell_type": "markdown",
   "id": "fae53811",
   "metadata": {},
   "source": [
    "### Drop Redundant Columns"
   ]
  },
  {
   "cell_type": "code",
   "execution_count": 456,
   "id": "0d650ef8",
   "metadata": {},
   "outputs": [
    {
     "name": "stdout",
     "output_type": "stream",
     "text": [
      "---- Frequency of the Mode (%) -----\n"
     ]
    },
    {
     "data": {
      "text/plain": [
       "num_pictures         100.000\n",
       "seller                99.998\n",
       "offer_type            99.998\n",
       "gearbox               73.986\n",
       "unrepaired_damage     70.464\n",
       "odometer              64.848\n",
       "fuel_type             60.214\n",
       "abtest                51.512\n",
       "vehicle_type          25.718\n",
       "brand                 21.374\n",
       "powerPS               11.000\n",
       "registration_month    10.150\n",
       "model                  8.048\n",
       "registration_year      6.708\n",
       "ad_created             3.892\n",
       "price                  2.842\n",
       "postal_code            0.218\n",
       "name                   0.156\n",
       "last_seen              0.016\n",
       "date_crawled           0.006\n",
       "dtype: float64"
      ]
     },
     "execution_count": 456,
     "metadata": {},
     "output_type": "execute_result"
    }
   ],
   "source": [
    "# Check the proportion of the most frequent value in each column\n",
    "print('---- Frequency of the Mode (%) -----')\n",
    "mode_dict = {col: (autos[col].value_counts().iat[0] / autos[col].size * 100) for col in autos.columns}\n",
    "mode_series = pd.Series(mode_dict)\n",
    "mode_series.sort_values(ascending=False)"
   ]
  },
  {
   "cell_type": "code",
   "execution_count": 457,
   "id": "da816089",
   "metadata": {},
   "outputs": [
    {
     "name": "stdout",
     "output_type": "stream",
     "text": [
      "privat        49999\n",
      "gewerblich        1\n",
      "Name: seller, dtype: int64\n",
      "\n",
      "Angebot    49999\n",
      "Gesuch         1\n",
      "Name: offer_type, dtype: int64\n",
      "\n",
      "0    50000\n",
      "Name: num_pictures, dtype: int64\n",
      "\n"
     ]
    }
   ],
   "source": [
    "# Show the value frequency of each column greater than the mode's threshold\n",
    "threshold = 80          \n",
    "for col in mode_series[mode_series > threshold].index:\n",
    "    print(autos[col].value_counts(dropna=False))\n",
    "    print()"
   ]
  },
  {
   "cell_type": "code",
   "execution_count": 458,
   "id": "af43acca",
   "metadata": {},
   "outputs": [],
   "source": [
    "# Drop columns \n",
    "cols_to_drop = [\"seller\", \"offer_type\", \"num_pictures\"]\n",
    "autos.drop(columns=cols_to_drop, axis=1, inplace=True)"
   ]
  },
  {
   "cell_type": "code",
   "execution_count": 459,
   "id": "493b1a05",
   "metadata": {},
   "outputs": [],
   "source": [
    "# Verify columns dropped\n",
    "assert all(col not in autos.columns for col in cols_to_drop)"
   ]
  },
  {
   "attachments": {},
   "cell_type": "markdown",
   "id": "c71c38ca",
   "metadata": {},
   "source": [
    "### Changing Data Types"
   ]
  },
  {
   "cell_type": "code",
   "execution_count": 460,
   "id": "9908ba2e",
   "metadata": {},
   "outputs": [],
   "source": [
    "# Convert columns to the right data types\n",
    "autos[\"odometer\"] = autos[\"odometer\"].str.replace(\"[^0-9.]\", \"\", regex = True).astype(int)\n",
    "autos[\"price\"] = autos[\"price\"].str.replace(\"[^0-9.]\", \"\", regex = True).astype(float)\n",
    "\n",
    "# Update column name to better reflect data as converted\n",
    "autos.rename(columns={\"odometer\" : \"odometer_km\"}, inplace = True)\n"
   ]
  },
  {
   "attachments": {},
   "cell_type": "markdown",
   "id": "aba182c3",
   "metadata": {},
   "source": [
    "### Handling Unreasonable Data Ranges"
   ]
  },
  {
   "attachments": {},
   "cell_type": "markdown",
   "id": "734104fe",
   "metadata": {},
   "source": [
    "**Column: `odometer_km`**"
   ]
  },
  {
   "cell_type": "code",
   "execution_count": 461,
   "id": "7911f60f",
   "metadata": {},
   "outputs": [
    {
     "data": {
      "text/plain": [
       "13"
      ]
     },
     "execution_count": 461,
     "metadata": {},
     "output_type": "execute_result"
    }
   ],
   "source": [
    "autos[\"odometer_km\"].nunique()"
   ]
  },
  {
   "cell_type": "code",
   "execution_count": 462,
   "id": "bdd145b3",
   "metadata": {},
   "outputs": [
    {
     "data": {
      "text/plain": [
       "count    50,000.000\n",
       "mean    125,732.700\n",
       "std      40,042.212\n",
       "min       5,000.000\n",
       "25%     125,000.000\n",
       "50%     150,000.000\n",
       "75%     150,000.000\n",
       "max     150,000.000\n",
       "Name: odometer_km, dtype: float64"
      ]
     },
     "execution_count": 462,
     "metadata": {},
     "output_type": "execute_result"
    }
   ],
   "source": [
    "autos[\"odometer_km\"].describe()"
   ]
  },
  {
   "cell_type": "code",
   "execution_count": 463,
   "id": "4cc88d4e",
   "metadata": {},
   "outputs": [
    {
     "data": {
      "text/plain": [
       "150000    32424\n",
       "125000     5170\n",
       "100000     2169\n",
       "90000      1757\n",
       "80000      1436\n",
       "70000      1230\n",
       "60000      1164\n",
       "50000      1027\n",
       "40000       819\n",
       "30000       789\n",
       "20000       784\n",
       "10000       264\n",
       "5000        967\n",
       "Name: odometer_km, dtype: int64"
      ]
     },
     "execution_count": 463,
     "metadata": {},
     "output_type": "execute_result"
    }
   ],
   "source": [
    "autos[\"odometer_km\"].value_counts().sort_index(ascending=False)"
   ]
  },
  {
   "cell_type": "code",
   "execution_count": 464,
   "id": "d8690b20",
   "metadata": {},
   "outputs": [
    {
     "name": "stdout",
     "output_type": "stream",
     "text": [
      "{5000: -3.015135627372434}\n"
     ]
    }
   ],
   "source": [
    "z_scores = {}\n",
    "for mileage in autos[\"odometer_km\"].unique():\n",
    "    z_score = ((mileage - 125732.7) / 40042.212)\n",
    "    if (z_score >= 3) | (z_score <= -3):\n",
    "        z_scores[mileage] = z_score\n",
    "print(z_scores)"
   ]
  },
  {
   "cell_type": "code",
   "execution_count": 465,
   "id": "83c6db8e",
   "metadata": {},
   "outputs": [
    {
     "name": "stdout",
     "output_type": "stream",
     "text": [
      "49033 True\n"
     ]
    }
   ],
   "source": [
    "#Drop all rows with an outlier value \n",
    "autos = autos[autos.odometer_km != 5000]\n",
    "\n",
    "#Verify columns dropped equate to the expected amount of dropped columns\n",
    "new_len = len(autos)\n",
    "print(new_len, (50000 - new_len == 967))\n"
   ]
  },
  {
   "attachments": {},
   "cell_type": "markdown",
   "id": "d50439f1",
   "metadata": {},
   "source": [
    "**Column: `price`**"
   ]
  },
  {
   "cell_type": "code",
   "execution_count": 466,
   "id": "e85b63e9",
   "metadata": {},
   "outputs": [
    {
     "data": {
      "text/plain": [
       "2323"
      ]
     },
     "execution_count": 466,
     "metadata": {},
     "output_type": "execute_result"
    }
   ],
   "source": [
    "autos[\"price\"].nunique()"
   ]
  },
  {
   "cell_type": "code",
   "execution_count": 467,
   "id": "1dd6b930",
   "metadata": {},
   "outputs": [
    {
     "data": {
      "text/plain": [
       "count       49,033.000\n",
       "mean         9,809.323\n",
       "std        485,497.272\n",
       "min              0.000\n",
       "25%          1,150.000\n",
       "50%          2,980.000\n",
       "75%          7,200.000\n",
       "max     99,999,999.000\n",
       "Name: price, dtype: float64"
      ]
     },
     "execution_count": 467,
     "metadata": {},
     "output_type": "execute_result"
    }
   ],
   "source": [
    "autos[\"price\"].describe()"
   ]
  },
  {
   "cell_type": "code",
   "execution_count": 468,
   "id": "f146e7e2",
   "metadata": {},
   "outputs": [
    {
     "data": {
      "text/plain": [
       "0.000     1291\n",
       "1.000      135\n",
       "2.000        1\n",
       "3.000        1\n",
       "5.000        2\n",
       "10.000       5\n",
       "11.000       2\n",
       "12.000       1\n",
       "13.000       1\n",
       "14.000       1\n",
       "Name: price, dtype: int64"
      ]
     },
     "execution_count": 468,
     "metadata": {},
     "output_type": "execute_result"
    }
   ],
   "source": [
    "autos[\"price\"].value_counts().sort_index(ascending=True).head(10)"
   ]
  },
  {
   "cell_type": "code",
   "execution_count": 469,
   "id": "26f0f6da",
   "metadata": {},
   "outputs": [
    {
     "data": {
      "text/plain": [
       "99,999,999.000    1\n",
       "27,322,222.000    1\n",
       "12,345,678.000    3\n",
       "11,111,111.000    2\n",
       "10,000,000.000    1\n",
       "1,300,000.000     1\n",
       "1,234,566.000     1\n",
       "999,999.000       2\n",
       "999,990.000       1\n",
       "345,000.000       1\n",
       "299,000.000       1\n",
       "259,000.000       1\n",
       "220,000.000       1\n",
       "197,000.000       1\n",
       "190,000.000       1\n",
       "Name: price, dtype: int64"
      ]
     },
     "execution_count": 469,
     "metadata": {},
     "output_type": "execute_result"
    }
   ],
   "source": [
    "autos[\"price\"].value_counts().sort_index(ascending=False).head(15)"
   ]
  },
  {
   "attachments": {},
   "cell_type": "markdown",
   "id": "94f711d9",
   "metadata": {},
   "source": [
    "(Note: the top 9 values here represent the top 13 rows of prices and appear to include listings over $990,000. In a dataset of 50,000, these items appear to be outliers, skew the data, and are small enough that removing them will be insignificant for the purposes of this project.)"
   ]
  },
  {
   "cell_type": "code",
   "execution_count": 470,
   "id": "810d09bc",
   "metadata": {},
   "outputs": [
    {
     "name": "stdout",
     "output_type": "stream",
     "text": [
      "49020 True\n"
     ]
    }
   ],
   "source": [
    "autos = autos[autos.price < 990000]\n",
    "print(len(autos), ((49033 - len(autos)) == 13))"
   ]
  },
  {
   "cell_type": "code",
   "execution_count": 471,
   "id": "011972cb",
   "metadata": {},
   "outputs": [
    {
     "data": {
      "text/plain": [
       "count    49,020.000\n",
       "mean      5,688.790\n",
       "std       8,411.410\n",
       "min           0.000\n",
       "25%       1,150.000\n",
       "50%       2,950.000\n",
       "75%       7,200.000\n",
       "max     345,000.000\n",
       "Name: price, dtype: float64"
      ]
     },
     "execution_count": 471,
     "metadata": {},
     "output_type": "execute_result"
    }
   ],
   "source": [
    "autos[\"price\"].describe()"
   ]
  },
  {
   "cell_type": "code",
   "execution_count": 472,
   "id": "fba5cb52",
   "metadata": {},
   "outputs": [],
   "source": [
    "# Calculate z-scores for values to determine outliers (z-score of +/- 3)\n",
    "z_scores = {}\n",
    "\n",
    "for price in autos[\"price\"].unique():\n",
    "    z_score = ((price - 5688.79)/8411.41)\n",
    "    if (z_score >= 3) | (z_score <= -3):\n",
    "        z_scores[price] = z_score"
   ]
  },
  {
   "cell_type": "code",
   "execution_count": 473,
   "id": "d6095d58",
   "metadata": {},
   "outputs": [
    {
     "name": "stdout",
     "output_type": "stream",
     "text": [
      "30933.0\n"
     ]
    }
   ],
   "source": [
    "# Retrieve the price threshold for which values exceeded a z-score of 3\n",
    "z_score_prices = z_scores.keys()\n",
    "sorted_prices = sorted(z_score_prices)\n",
    "threshold = sorted_prices[0]\n",
    "\n",
    "print(threshold)"
   ]
  },
  {
   "cell_type": "code",
   "execution_count": 474,
   "id": "d8e01831",
   "metadata": {},
   "outputs": [
    {
     "name": "stdout",
     "output_type": "stream",
     "text": [
      "48306\n"
     ]
    }
   ],
   "source": [
    "#Drop all rows above the price threshold\n",
    "autos = autos[autos.price < threshold]\n",
    "\n",
    "#Verify rows were dropped\n",
    "print(len(autos))"
   ]
  },
  {
   "attachments": {},
   "cell_type": "markdown",
   "id": "2ae4faf1",
   "metadata": {},
   "source": [
    "**Column:** `registration_year`"
   ]
  },
  {
   "cell_type": "code",
   "execution_count": 475,
   "id": "29d2dfa1",
   "metadata": {},
   "outputs": [
    {
     "data": {
      "text/plain": [
       "count   48,306.000\n",
       "mean     2,004.697\n",
       "std         99.963\n",
       "min      1,910.000\n",
       "25%      1,999.000\n",
       "50%      2,003.000\n",
       "75%      2,008.000\n",
       "max      9,999.000\n",
       "Name: registration_year, dtype: float64"
      ]
     },
     "execution_count": 475,
     "metadata": {},
     "output_type": "execute_result"
    }
   ],
   "source": [
    "autos[\"registration_year\"].describe()"
   ]
  },
  {
   "cell_type": "code",
   "execution_count": 476,
   "id": "f9d519d8",
   "metadata": {},
   "outputs": [
    {
     "name": "stdout",
     "output_type": "stream",
     "text": [
      "46399\n"
     ]
    }
   ],
   "source": [
    "autos = autos[autos[\"registration_year\"] <= 2016]\n",
    "print(len(autos))"
   ]
  },
  {
   "attachments": {},
   "cell_type": "markdown",
   "id": "f7edbaad",
   "metadata": {},
   "source": [
    "---"
   ]
  },
  {
   "cell_type": "markdown",
   "id": "a7aa69cf",
   "metadata": {},
   "source": [
    "# 4"
   ]
  },
  {
   "attachments": {},
   "cell_type": "markdown",
   "id": "934c3750",
   "metadata": {},
   "source": [
    "## Exploratory Data Analysis"
   ]
  },
  {
   "cell_type": "markdown",
   "id": "5289a18f",
   "metadata": {},
   "source": [
    "Here is where your analysis begins. You can add different sections based on your project goals."
   ]
  },
  {
   "attachments": {},
   "cell_type": "markdown",
   "id": "c14145e8",
   "metadata": {},
   "source": [
    "### Exploring `date_crawled`"
   ]
  },
  {
   "cell_type": "code",
   "execution_count": 477,
   "id": "1da79ee9",
   "metadata": {},
   "outputs": [
    {
     "data": {
      "text/plain": [
       "2016-03-05   0.025\n",
       "2016-03-06   0.014\n",
       "2016-03-07   0.036\n",
       "2016-03-08   0.034\n",
       "2016-03-09   0.033\n",
       "2016-03-10   0.032\n",
       "2016-03-11   0.032\n",
       "2016-03-12   0.037\n",
       "2016-03-13   0.016\n",
       "2016-03-14   0.036\n",
       "2016-03-15   0.034\n",
       "2016-03-16   0.029\n",
       "2016-03-17   0.032\n",
       "2016-03-18   0.013\n",
       "2016-03-19   0.035\n",
       "2016-03-20   0.038\n",
       "2016-03-21   0.037\n",
       "2016-03-22   0.032\n",
       "2016-03-23   0.032\n",
       "2016-03-24   0.029\n",
       "2016-03-25   0.032\n",
       "2016-03-26   0.032\n",
       "2016-03-27   0.031\n",
       "2016-03-28   0.034\n",
       "2016-03-29   0.034\n",
       "2016-03-30   0.034\n",
       "2016-03-31   0.032\n",
       "2016-04-01   0.034\n",
       "2016-04-02   0.035\n",
       "2016-04-03   0.039\n",
       "2016-04-04   0.037\n",
       "2016-04-05   0.013\n",
       "2016-04-06   0.003\n",
       "2016-04-07   0.001\n",
       "Name: date_crawled, dtype: float64"
      ]
     },
     "execution_count": 477,
     "metadata": {},
     "output_type": "execute_result"
    }
   ],
   "source": [
    "autos_crawl_dates = autos[\"date_crawled\"].str[:10]\n",
    "autos_crawl_dates.value_counts(normalize=True, dropna=False).sort_index()\n"
   ]
  },
  {
   "attachments": {},
   "cell_type": "markdown",
   "id": "cc6a1f0f",
   "metadata": {},
   "source": [
    "**Observations**\n",
    "- Dates crawled range from 2016-03-05 to 2016-04-07\n",
    "- The final two days of crawling yielded very few entries\n",
    "- the vast majority of the dataset falls over the course of a month"
   ]
  },
  {
   "attachments": {},
   "cell_type": "markdown",
   "id": "1cdae7c7",
   "metadata": {},
   "source": [
    "### Exploring `ad_created`"
   ]
  },
  {
   "cell_type": "code",
   "execution_count": 478,
   "id": "7333795a",
   "metadata": {},
   "outputs": [
    {
     "data": {
      "text/plain": [
       "2015-08-10       1\n",
       "2015-09-09       1\n",
       "2015-11-10       1\n",
       "2015-12-05       1\n",
       "2015-12-30       1\n",
       "              ... \n",
       "2016-04-03    1815\n",
       "2016-04-04    1724\n",
       "2016-04-05     541\n",
       "2016-04-06     145\n",
       "2016-04-07      61\n",
       "Name: ad_created, Length: 73, dtype: int64"
      ]
     },
     "execution_count": 478,
     "metadata": {},
     "output_type": "execute_result"
    }
   ],
   "source": [
    "autos_creation_dates = autos[\"ad_created\"].str[:10]\n",
    "sorted_creation_dates = autos_creation_dates.value_counts(dropna=False).sort_index()\n",
    "sorted_creation_dates"
   ]
  },
  {
   "cell_type": "code",
   "execution_count": 479,
   "id": "17dfb079",
   "metadata": {},
   "outputs": [
    {
     "data": {
      "text/plain": [
       "2015-08-10    1\n",
       "2015-09-09    1\n",
       "2015-11-10    1\n",
       "2015-12-05    1\n",
       "2015-12-30    1\n",
       "2016-01-03    1\n",
       "2016-01-07    1\n",
       "2016-01-10    2\n",
       "2016-01-13    1\n",
       "2016-01-14    1\n",
       "2016-01-16    1\n",
       "2016-01-27    2\n",
       "2016-02-01    1\n",
       "2016-02-02    2\n",
       "2016-02-05    2\n",
       "2016-02-07    1\n",
       "2016-02-08    1\n",
       "2016-02-09    2\n",
       "2016-02-11    1\n",
       "2016-02-12    3\n",
       "Name: ad_created, dtype: int64"
      ]
     },
     "execution_count": 479,
     "metadata": {},
     "output_type": "execute_result"
    }
   ],
   "source": [
    "sorted_creation_dates[:20]"
   ]
  },
  {
   "attachments": {},
   "cell_type": "markdown",
   "id": "56d4c263",
   "metadata": {},
   "source": [
    "**Observations**\n",
    "- The ads were created between 2015-08-10 to 2016-04-07\n",
    "- Only a small handful of entries from 2015 were still listed\n",
    "- January 10 is when you start to see multiple listings created per day"
   ]
  },
  {
   "attachments": {},
   "cell_type": "markdown",
   "id": "1f44b690",
   "metadata": {},
   "source": [
    "### Exploring `last_seen`"
   ]
  },
  {
   "cell_type": "code",
   "execution_count": 480,
   "id": "2176a0cd",
   "metadata": {},
   "outputs": [
    {
     "data": {
      "text/plain": [
       "2016-03-05   0.001\n",
       "2016-03-06   0.004\n",
       "2016-03-07   0.005\n",
       "2016-03-08   0.008\n",
       "2016-03-09   0.010\n",
       "2016-03-10   0.011\n",
       "2016-03-11   0.013\n",
       "2016-03-12   0.024\n",
       "2016-03-13   0.009\n",
       "2016-03-14   0.013\n",
       "2016-03-15   0.016\n",
       "2016-03-16   0.016\n",
       "2016-03-17   0.028\n",
       "2016-03-18   0.007\n",
       "2016-03-19   0.016\n",
       "2016-03-20   0.021\n",
       "2016-03-21   0.021\n",
       "2016-03-22   0.021\n",
       "2016-03-23   0.019\n",
       "2016-03-24   0.020\n",
       "2016-03-25   0.019\n",
       "2016-03-26   0.017\n",
       "2016-03-27   0.016\n",
       "2016-03-28   0.021\n",
       "2016-03-29   0.022\n",
       "2016-03-30   0.025\n",
       "2016-03-31   0.024\n",
       "2016-04-01   0.024\n",
       "2016-04-02   0.025\n",
       "2016-04-03   0.026\n",
       "2016-04-04   0.024\n",
       "2016-04-05   0.124\n",
       "2016-04-06   0.221\n",
       "2016-04-07   0.130\n",
       "Name: last_seen, dtype: float64"
      ]
     },
     "execution_count": 480,
     "metadata": {},
     "output_type": "execute_result"
    }
   ],
   "source": [
    "autos_creation_dates = autos[\"last_seen\"].str[:10]\n",
    "sorted_last_seen_dates = autos_creation_dates.value_counts(normalize=True, dropna=False).sort_index()\n",
    "sorted_last_seen_dates"
   ]
  },
  {
   "attachments": {},
   "cell_type": "markdown",
   "id": "47d51179",
   "metadata": {},
   "source": [
    "**Observations**\n",
    "- Last seen dates match up with the dates_crawled\n",
    "- No apparent outliers"
   ]
  },
  {
   "attachments": {},
   "cell_type": "markdown",
   "id": "2929d693",
   "metadata": {},
   "source": [
    "### Exploring `registration_year`"
   ]
  },
  {
   "cell_type": "code",
   "execution_count": 481,
   "id": "be020d68",
   "metadata": {},
   "outputs": [
    {
     "data": {
      "text/plain": [
       "count   46,399.000\n",
       "mean     2,002.788\n",
       "std          6.921\n",
       "min      1,910.000\n",
       "25%      1,999.000\n",
       "50%      2,003.000\n",
       "75%      2,007.000\n",
       "max      2,016.000\n",
       "Name: registration_year, dtype: float64"
      ]
     },
     "execution_count": 481,
     "metadata": {},
     "output_type": "execute_result"
    }
   ],
   "source": [
    "autos[\"registration_year\"].describe()"
   ]
  },
  {
   "attachments": {},
   "cell_type": "markdown",
   "id": "51290fd7",
   "metadata": {},
   "source": [
    "**Observations**\n",
    "- Registration years range from 1910-2016\n",
    "- Mean of 2002 would indicate cars listed are on average 14 years old"
   ]
  },
  {
   "attachments": {},
   "cell_type": "markdown",
   "id": "6b4a8c58",
   "metadata": {},
   "source": [
    "### Exploring `price` by `brand`"
   ]
  },
  {
   "cell_type": "code",
   "execution_count": 482,
   "id": "35310fba",
   "metadata": {},
   "outputs": [
    {
     "data": {
      "text/plain": [
       "volkswagen       0.214\n",
       "opel             0.109\n",
       "bmw              0.109\n",
       "mercedes_benz    0.095\n",
       "audi             0.085\n",
       "ford             0.071\n",
       "renault          0.048\n",
       "peugeot          0.030\n",
       "fiat             0.026\n",
       "seat             0.019\n",
       "skoda            0.016\n",
       "mazda            0.015\n",
       "nissan           0.015\n",
       "smart            0.014\n",
       "citroen          0.014\n",
       "toyota           0.013\n",
       "hyundai          0.010\n",
       "volvo            0.009\n",
       "sonstige_autos   0.009\n",
       "mini             0.009\n",
       "mitsubishi       0.008\n",
       "honda            0.008\n",
       "kia              0.007\n",
       "alfa_romeo       0.007\n",
       "suzuki           0.006\n",
       "chevrolet        0.006\n",
       "chrysler         0.004\n",
       "porsche          0.003\n",
       "dacia            0.003\n",
       "daihatsu         0.003\n",
       "subaru           0.002\n",
       "jeep             0.002\n",
       "saab             0.002\n",
       "land_rover       0.002\n",
       "jaguar           0.002\n",
       "daewoo           0.002\n",
       "rover            0.001\n",
       "trabant          0.001\n",
       "lancia           0.001\n",
       "lada             0.001\n",
       "Name: brand, dtype: float64"
      ]
     },
     "execution_count": 482,
     "metadata": {},
     "output_type": "execute_result"
    }
   ],
   "source": [
    "brand_value_counts = autos[\"brand\"].value_counts(normalize=True, dropna=False)\n",
    "brand_value_counts"
   ]
  },
  {
   "cell_type": "code",
   "execution_count": 483,
   "id": "b1cd05c2",
   "metadata": {},
   "outputs": [
    {
     "data": {
      "text/plain": [
       "volkswagen       0.214\n",
       "opel             0.109\n",
       "bmw              0.109\n",
       "mercedes_benz    0.095\n",
       "audi             0.085\n",
       "ford             0.071\n",
       "renault          0.048\n",
       "peugeot          0.030\n",
       "fiat             0.026\n",
       "seat             0.019\n",
       "skoda            0.016\n",
       "mazda            0.015\n",
       "nissan           0.015\n",
       "smart            0.014\n",
       "citroen          0.014\n",
       "toyota           0.013\n",
       "hyundai          0.010\n",
       "volvo            0.009\n",
       "sonstige_autos   0.009\n",
       "mini             0.009\n",
       "mitsubishi       0.008\n",
       "honda            0.008\n",
       "kia              0.007\n",
       "alfa_romeo       0.007\n",
       "suzuki           0.006\n",
       "chevrolet        0.006\n",
       "Name: brand, dtype: float64"
      ]
     },
     "execution_count": 483,
     "metadata": {},
     "output_type": "execute_result"
    }
   ],
   "source": [
    "brands = brand_value_counts[brand_value_counts > 0.005]\n",
    "brands"
   ]
  },
  {
   "cell_type": "code",
   "execution_count": 484,
   "id": "90defb3f",
   "metadata": {},
   "outputs": [
    {
     "name": "stdout",
     "output_type": "stream",
     "text": [
      "                Avg Price\n",
      "volkswagen      5,048.652\n",
      "opel            2,859.207\n",
      "bmw             7,274.864\n",
      "mercedes_benz   7,372.408\n",
      "audi            7,801.694\n",
      "ford            3,407.002\n",
      "renault         2,318.854\n",
      "peugeot         3,043.531\n",
      "fiat            2,674.498\n",
      "seat            4,265.253\n",
      "skoda           6,270.519\n",
      "mazda           3,890.487\n",
      "nissan          4,606.934\n",
      "smart           3,560.563\n",
      "citroen         3,620.587\n",
      "toyota          4,989.483\n",
      "hyundai         5,281.729\n",
      "volvo           4,780.823\n",
      "sonstige_autos  7,416.785\n",
      "mini           10,333.693\n",
      "mitsubishi      3,159.745\n",
      "honda           3,831.508\n",
      "kia             5,817.460\n",
      "alfa_romeo      3,866.719\n",
      "suzuki          3,976.649\n",
      "chevrolet       5,992.031\n"
     ]
    },
    {
     "data": {
      "text/html": [
       "<div>\n",
       "<style scoped>\n",
       "    .dataframe tbody tr th:only-of-type {\n",
       "        vertical-align: middle;\n",
       "    }\n",
       "\n",
       "    .dataframe tbody tr th {\n",
       "        vertical-align: top;\n",
       "    }\n",
       "\n",
       "    .dataframe thead th {\n",
       "        text-align: right;\n",
       "    }\n",
       "</style>\n",
       "<table border=\"1\" class=\"dataframe\">\n",
       "  <thead>\n",
       "    <tr style=\"text-align: right;\">\n",
       "      <th></th>\n",
       "      <th>Avg Price</th>\n",
       "    </tr>\n",
       "  </thead>\n",
       "  <tbody>\n",
       "    <tr>\n",
       "      <th>count</th>\n",
       "      <td>26.000</td>\n",
       "    </tr>\n",
       "    <tr>\n",
       "      <th>mean</th>\n",
       "      <td>4,902.372</td>\n",
       "    </tr>\n",
       "    <tr>\n",
       "      <th>std</th>\n",
       "      <td>1,924.777</td>\n",
       "    </tr>\n",
       "    <tr>\n",
       "      <th>min</th>\n",
       "      <td>2,318.854</td>\n",
       "    </tr>\n",
       "    <tr>\n",
       "      <th>25%</th>\n",
       "      <td>3,575.569</td>\n",
       "    </tr>\n",
       "    <tr>\n",
       "      <th>50%</th>\n",
       "      <td>4,436.093</td>\n",
       "    </tr>\n",
       "    <tr>\n",
       "      <th>75%</th>\n",
       "      <td>5,948.388</td>\n",
       "    </tr>\n",
       "    <tr>\n",
       "      <th>max</th>\n",
       "      <td>10,333.693</td>\n",
       "    </tr>\n",
       "  </tbody>\n",
       "</table>\n",
       "</div>"
      ],
      "text/plain": [
       "       Avg Price\n",
       "count     26.000\n",
       "mean   4,902.372\n",
       "std    1,924.777\n",
       "min    2,318.854\n",
       "25%    3,575.569\n",
       "50%    4,436.093\n",
       "75%    5,948.388\n",
       "max   10,333.693"
      ]
     },
     "execution_count": 484,
     "metadata": {},
     "output_type": "execute_result"
    }
   ],
   "source": [
    "final_brands = brands.keys()\n",
    "price_by_brands = {}\n",
    "\n",
    "for b in final_brands:\n",
    "    brand_sales = autos[autos[\"brand\"] == b] #Create a subset of rows identified as the brand\n",
    "    mean_price = brand_sales[\"price\"].mean()\n",
    "    price_by_brands[b] = mean_price\n",
    "\n",
    "brand_price_df = pd.DataFrame.from_dict(price_by_brands, orient='index', columns=[\"Avg Price\"]) #Convert to dataframe for easy calculations and later data storage\n",
    "print(brand_price_df)\n",
    "brand_price_df.describe()"
   ]
  },
  {
   "attachments": {},
   "cell_type": "markdown",
   "id": "f1f36957",
   "metadata": {},
   "source": [
    "**Observations**\n",
    "- Top three brands by price: Mini, Audi and Sonstige Autos\n",
    "- Prices tend to trend between $3500-$6000\n",
    "- Average sale price of ~$5000\n",
    "- Average sale price does not seem indicative of most frequent sales by brand"
   ]
  },
  {
   "cell_type": "code",
   "execution_count": 490,
   "id": "6e2e70ec",
   "metadata": {},
   "outputs": [
    {
     "name": "stdout",
     "output_type": "stream",
     "text": [
      "                Avg Price  Mileage_km\n",
      "volkswagen       5,048.65  131,458.90\n",
      "opel             2,859.21  131,987.20\n",
      "bmw              7,274.86  136,477.21\n",
      "mercedes_benz    7,372.41  134,340.10\n",
      "audi             7,801.69  133,657.89\n",
      "ford             3,407.00  126,648.85\n",
      "renault          2,318.85  130,546.84\n",
      "peugeot          3,043.53  128,354.70\n",
      "fiat             2,674.50  119,693.71\n",
      "seat             4,265.25  123,463.33\n",
      "skoda            6,270.52  113,039.74\n",
      "mazda            3,890.49  126,855.74\n",
      "nissan           4,606.93  121,050.78\n",
      "smart            3,560.56  100,309.20\n",
      "citroen          3,620.59  121,001.52\n",
      "toyota           4,989.48  117,313.56\n",
      "hyundai          5,281.73  107,596.15\n",
      "volvo            4,780.82  139,568.18\n",
      "sonstige_autos   7,416.78  103,480.86\n",
      "mini            10,333.69   90,829.21\n",
      "mitsubishi       3,159.74  130,381.58\n",
      "honda            3,831.51  125,339.67\n",
      "kia              5,817.46  113,067.85\n",
      "alfa_romeo       3,866.72  134,661.29\n",
      "suzuki           3,976.65  110,913.98\n",
      "chevrolet        5,992.03  105,371.09\n"
     ]
    }
   ],
   "source": [
    "#Find the mean mileage by brand\n",
    "mileage_by_brands = {}\n",
    "for b in final_brands:\n",
    "    brand_mileage = autos[autos[\"brand\"] == b] #create a subset of rows identified as the brand\n",
    "    mean_mileage = brand_mileage[\"odometer_km\"].mean()\n",
    "    mileage_by_brands[b] = mean_mileage\n",
    "\n",
    "#Convert mileage to series and add to dataframe\n",
    "mileage_series = pd.Series(mileage_by_brands)\n",
    "brand_price_miles = brand_price_df.assign(Mileage_km = mileage_series)\n",
    "\n",
    "print(brand_price_miles)"
   ]
  },
  {
   "cell_type": "code",
   "execution_count": 491,
   "id": "5ebc1c52",
   "metadata": {},
   "outputs": [
    {
     "data": {
      "text/html": [
       "<div>\n",
       "<style scoped>\n",
       "    .dataframe tbody tr th:only-of-type {\n",
       "        vertical-align: middle;\n",
       "    }\n",
       "\n",
       "    .dataframe tbody tr th {\n",
       "        vertical-align: top;\n",
       "    }\n",
       "\n",
       "    .dataframe thead th {\n",
       "        text-align: right;\n",
       "    }\n",
       "</style>\n",
       "<table border=\"1\" class=\"dataframe\">\n",
       "  <thead>\n",
       "    <tr style=\"text-align: right;\">\n",
       "      <th></th>\n",
       "      <th>Avg Price</th>\n",
       "      <th>Mileage_km</th>\n",
       "    </tr>\n",
       "  </thead>\n",
       "  <tbody>\n",
       "    <tr>\n",
       "      <th>count</th>\n",
       "      <td>26.00</td>\n",
       "      <td>26.00</td>\n",
       "    </tr>\n",
       "    <tr>\n",
       "      <th>mean</th>\n",
       "      <td>4,902.37</td>\n",
       "      <td>121,438.81</td>\n",
       "    </tr>\n",
       "    <tr>\n",
       "      <th>std</th>\n",
       "      <td>1,924.78</td>\n",
       "      <td>12,603.37</td>\n",
       "    </tr>\n",
       "    <tr>\n",
       "      <th>min</th>\n",
       "      <td>2,318.85</td>\n",
       "      <td>90,829.21</td>\n",
       "    </tr>\n",
       "    <tr>\n",
       "      <th>25%</th>\n",
       "      <td>3,575.57</td>\n",
       "      <td>113,046.76</td>\n",
       "    </tr>\n",
       "    <tr>\n",
       "      <th>50%</th>\n",
       "      <td>4,436.09</td>\n",
       "      <td>124,401.50</td>\n",
       "    </tr>\n",
       "    <tr>\n",
       "      <th>75%</th>\n",
       "      <td>5,948.39</td>\n",
       "      <td>131,230.88</td>\n",
       "    </tr>\n",
       "    <tr>\n",
       "      <th>max</th>\n",
       "      <td>10,333.69</td>\n",
       "      <td>139,568.18</td>\n",
       "    </tr>\n",
       "  </tbody>\n",
       "</table>\n",
       "</div>"
      ],
      "text/plain": [
       "       Avg Price  Mileage_km\n",
       "count      26.00       26.00\n",
       "mean    4,902.37  121,438.81\n",
       "std     1,924.78   12,603.37\n",
       "min     2,318.85   90,829.21\n",
       "25%     3,575.57  113,046.76\n",
       "50%     4,436.09  124,401.50\n",
       "75%     5,948.39  131,230.88\n",
       "max    10,333.69  139,568.18"
      ]
     },
     "execution_count": 491,
     "metadata": {},
     "output_type": "execute_result"
    }
   ],
   "source": [
    "#Print summary statistics\n",
    "brand_price_miles.describe()"
   ]
  },
  {
   "attachments": {},
   "cell_type": "markdown",
   "id": "523b06e7",
   "metadata": {},
   "source": [
    "---"
   ]
  },
  {
   "cell_type": "code",
   "execution_count": null,
   "id": "fe190be4",
   "metadata": {},
   "outputs": [],
   "source": []
  },
  {
   "cell_type": "markdown",
   "id": "46c6b6e1",
   "metadata": {},
   "source": [
    "# 5"
   ]
  },
  {
   "attachments": {},
   "cell_type": "markdown",
   "id": "0bc7ba8f",
   "metadata": {},
   "source": [
    "## Conclusion\n",
    "\n",
    "### General Insights \n",
    "While exploring this data was interesting, the intent of this project was actually to practice basic skills. The biggest takeaways for me:\n",
    "- It's going to be important to learn data visualization as numbers alone aren't the easiest way to view and compare\n",
    "- Data cleaning is essential and the more upfront work you do, the easier time you'll have in later analyzing\n",
    "- You may start with a question in mind, but as you work through the data more questions will arise and drive your analysis\n",
    "\n",
    "### Data Insights\n",
    "- If you're looking to sell your used vehicle, the top brands selling on eBay are: Volkswagon, Opel and BMW. \n",
    "- If you're looking to purchase a vehicle on eBay, expect cars to have at least 90,000km on them\n",
    "- This information is equally as useful as sellers as it is buyers - it just depends on how you look at it\n"
   ]
  },
  {
   "attachments": {},
   "cell_type": "markdown",
   "id": "9a712d72",
   "metadata": {},
   "source": [
    "### Possible Next Steps\n",
    "Areas to expand on:\n",
    "- Correlation between this data from eBay and all used auto sales in Germany\n",
    "- Breakdown by brand nationality\n",
    "- Correlation between price and age of vehicle\n",
    "- Correlation between price and mileage"
   ]
  }
 ],
 "metadata": {
  "kernelspec": {
   "display_name": "base",
   "language": "python",
   "name": "python3"
  },
  "language_info": {
   "codemirror_mode": {
    "name": "ipython",
    "version": 3
   },
   "file_extension": ".py",
   "mimetype": "text/x-python",
   "name": "python",
   "nbconvert_exporter": "python",
   "pygments_lexer": "ipython3",
   "version": "3.9.9"
  },
  "vscode": {
   "interpreter": {
    "hash": "fafc50dc8a0fe30378212a6e8a815037b6b7ff0aadeb98c480725f88009956fb"
   }
  }
 },
 "nbformat": 4,
 "nbformat_minor": 5
}
