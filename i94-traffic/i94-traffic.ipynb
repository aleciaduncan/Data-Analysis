{
 "cells": [
  {
   "attachments": {},
   "cell_type": "markdown",
   "id": "6d2e410e",
   "metadata": {},
   "source": [
    "# Westbound I-94 Traffic "
   ]
  },
  {
   "attachments": {},
   "cell_type": "markdown",
   "id": "11138c3d",
   "metadata": {},
   "source": [
    "## Table of Contents\n",
    "\n",
    "1. [**Introduction**](#1)\n",
    "    - Project Description\n",
    "    - Data Description\n",
    "2. [**Acquiring and Loading Data**](#2)\n",
    "\t- Importing Libraries and Notebook Setup\n",
    "    - Loading Data\n",
    "    - Basic Data Exploration\n",
    "    - Areas to Fix\n",
    "3. [**Data Proprocessing**](#3)\n",
    "4. [**Exploratory Data Analysis**](#4)\n",
    "5. [**Conclusion**](#5)\n",
    "    - Insights\n",
    "    - Suggestions\n",
    "    - Possible Next Steps\n",
    "6. [**Epilogue**](#6) \n",
    "    - References\n",
    "    - Versioning"
   ]
  },
  {
   "attachments": {},
   "cell_type": "markdown",
   "id": "7f42c6c9",
   "metadata": {},
   "source": [
    "---"
   ]
  },
  {
   "cell_type": "markdown",
   "id": "5582744b",
   "metadata": {},
   "source": [
    "# 1"
   ]
  },
  {
   "attachments": {},
   "cell_type": "markdown",
   "id": "58c986fc",
   "metadata": {},
   "source": [
    "## Introduction\n",
    "\n",
    "Insert Image Here (by dragging it)\n",
    "\n",
    "### Project Description\n",
    "\n",
    "**Goal/Purpose:** \n",
    "\n",
    "The goal of this project is to determine indicators of heavy traffic on I-94. \n",
    "\n",
    "<p>&nbsp;</p>\n",
    "\n",
    "**Questions to be Answered:**\n",
    "\n",
    "- How does weather impact traffic? \n",
    "- What are the seasonal impacts on traffic?\n",
    "- What is the average impact to travel during heavy commute periods?\n",
    "\n",
    "<p>&nbsp;</p>\n",
    "\n",
    "**Assumptions/Methodology/Scope:** \n",
    "\n",
    "Briefly describe assumptions,processing steps, and the scope of this project.\n",
    "\n",
    "<p>&nbsp;</p>\n",
    "\n",
    "### Data Description\n",
    "\n",
    "**Content:** \n",
    "\n",
    "This dataset is a csv file about Minneapolis-St.Paul traffic. The dataset lasts from 2012-2018 and contains hourly information about westbound traffic on I-94, including weather and holidays. \n",
    "\n",
    "<p>&nbsp;</p>\n",
    "\n",
    "**Description of Attributes:** \n",
    "\n",
    "Here you can describe what each column represents.\n",
    "| Column  | Description |\n",
    "| :------ | :---------- |\n",
    "| holiday | Categorical US National holidays plus regional holiday, Minnesota State Fair |\n",
    "| temp | Numeric Average temp in kelvin |\n",
    "| rain_1h | Numeric Amount in mm of rain that occurred in the hour |\n",
    "| snow_1h | Numeric Amount in mm of snow that occurred in the hour  |\n",
    "| clouds_all | Numeric Percentage of cloud cover |\n",
    "| weather_main | Categorical Short textual description of the current weather |\n",
    "| weather_description | Categorical Longer textual description of current weather |\n",
    "| date_time | DateTime Hour of the data collected in local CST time |\n",
    "| traffic_volume | Numeric Hourly I-94 ATR 301 reported westbound traffic  |\n",
    "<p>&nbsp;</p>\n",
    "\n",
    "**Acknowledgements:** \n",
    "\n",
    "This dataset is provided by John Hogue, Social Data Science & General Mills,  and the original source can be found on [Metro Interstate Traffic Volume Data Set - UCI Machine Learning Repository](https://archive.ics.uci.edu/ml/datasets/Metro+Interstate+Traffic+Volume#)."
   ]
  },
  {
   "attachments": {},
   "cell_type": "markdown",
   "id": "2a46158b",
   "metadata": {},
   "source": [
    "---"
   ]
  },
  {
   "cell_type": "markdown",
   "id": "27cb5f7b",
   "metadata": {},
   "source": [
    "# 2"
   ]
  },
  {
   "attachments": {},
   "cell_type": "markdown",
   "id": "5aff919e",
   "metadata": {},
   "source": [
    "## Acquiring and Loading Data\n",
    "### Importing Libraries and Notebook Setup"
   ]
  },
  {
   "cell_type": "code",
   "execution_count": null,
   "id": "2d3c91f4",
   "metadata": {},
   "outputs": [],
   "source": [
    "# Ignore warnings if needed\n",
    "import warnings\n",
    "warnings.filterwarnings('ignore')\n",
    "\n",
    "# Data manipulation\n",
    "import datetime\n",
    "import numpy as np\n",
    "import pandas as pd\n",
    "import pandas.api.types as ptypes\n",
    "\n",
    "# Visualizations\n",
    "import matplotlib.pyplot as plt\n",
    "import seaborn as sns\n",
    "%matplotlib inline\n",
    "\n",
    "# Pandas settings\n",
    "pd.options.display.max_columns = None\n",
    "pd.options.display.max_colwidth = 60\n",
    "pd.options.display.float_format = '{:,.3f}'.format\n",
    "\n",
    "# Visualization settings\n",
    "from matplotlib import rcParams\n",
    "plt.style.use('fivethirtyeight')\n",
    "rcParams['figure.figsize'] = (16, 5)   \n",
    "rcParams['axes.spines.right'] = False\n",
    "rcParams['axes.spines.top'] = False\n",
    "rcParams['font.size'] = 12\n",
    "# rcParams['figure.dpi'] = 300\n",
    "rcParams['savefig.dpi'] = 300\n",
    "plt.rc('xtick', labelsize=11)\n",
    "plt.rc('ytick', labelsize=11)\n",
    "custom_palette = ['#003f5c', '#444e86', '#955196', '#dd5182', '#ff6e54', '#ffa600']\n",
    "custom_hue = ['#004c6d', '#346888', '#5886a5', '#7aa6c2', '#9dc6e0', '#c1e7ff']\n",
    "custom_divergent = ['#00876c', '#6aaa96', '#aecdc2', '#f1f1f1', '#f0b8b8', '#e67f83', '#d43d51']\n",
    "sns.set_palette(custom_palette)\n",
    "%config InlineBackend.figure_format = 'retina'"
   ]
  },
  {
   "attachments": {},
   "cell_type": "markdown",
   "id": "9b4388c3",
   "metadata": {},
   "source": [
    "### Loading Data"
   ]
  },
  {
   "cell_type": "code",
   "execution_count": null,
   "id": "d9db55db",
   "metadata": {},
   "outputs": [],
   "source": [
    "# # Load DataFrame\n",
    "# file = 'file.csv'\n",
    "# df = pd.read_csv(file)"
   ]
  },
  {
   "attachments": {},
   "cell_type": "markdown",
   "id": "57cfe0e7",
   "metadata": {},
   "source": [
    "### Basic Data Exploration"
   ]
  },
  {
   "attachments": {},
   "cell_type": "markdown",
   "id": "1926c818",
   "metadata": {},
   "source": [
    "#### Number of Rows and Columns"
   ]
  },
  {
   "cell_type": "code",
   "execution_count": null,
   "id": "4fa28f05",
   "metadata": {},
   "outputs": [],
   "source": [
    "# # Show rows and columns count\n",
    "# print(f\"Rows count: {df.shape[0]}\\nColumns count: {df.shape[1]}\")"
   ]
  },
  {
   "attachments": {},
   "cell_type": "markdown",
   "id": "70bf95bb",
   "metadata": {},
   "source": [
    "#### Display First and Last Rows"
   ]
  },
  {
   "cell_type": "code",
   "execution_count": null,
   "id": "e1fa1ba8",
   "metadata": {},
   "outputs": [],
   "source": [
    "# # Look at first 5 rows\n",
    "# df.head()"
   ]
  },
  {
   "cell_type": "code",
   "execution_count": null,
   "id": "53c7aa44",
   "metadata": {},
   "outputs": [],
   "source": [
    "# # Look at last 5 rows\n",
    "# df.tail()"
   ]
  },
  {
   "attachments": {},
   "cell_type": "markdown",
   "id": "11e8e96f",
   "metadata": {},
   "source": [
    "#### Check Data Types"
   ]
  },
  {
   "cell_type": "code",
   "execution_count": null,
   "id": "47b0d2fc",
   "metadata": {},
   "outputs": [],
   "source": [
    "# # Show data types\n",
    "# df.info()"
   ]
  },
  {
   "attachments": {},
   "cell_type": "markdown",
   "id": "76ca447a",
   "metadata": {},
   "source": [
    "- `column1`, `column2`, `column3` are **strings**.\n",
    "- `column4` and `column5` are **floats**.\n",
    "- `column6` is an **integer**.\n",
    "\n",
    "`column3` should be a **datetime** type instead."
   ]
  },
  {
   "attachments": {},
   "cell_type": "markdown",
   "id": "c859deaf",
   "metadata": {},
   "source": [
    "#### Check Missing Data"
   ]
  },
  {
   "cell_type": "code",
   "execution_count": null,
   "id": "969ad268",
   "metadata": {},
   "outputs": [],
   "source": [
    "# # Print percentage of missing values\n",
    "# missing_percent = df.isna().mean().sort_values(ascending=False)\n",
    "# print('---- Percentage of Missing Values (%) -----')\n",
    "# if missing_percent.sum():\n",
    "#     print(missing_percent[missing_percent > 0] * 100)\n",
    "# else:\n",
    "#     print(None)"
   ]
  },
  {
   "attachments": {},
   "cell_type": "markdown",
   "id": "5c454485",
   "metadata": {},
   "source": [
    "#### Check for Duplicate Rows"
   ]
  },
  {
   "cell_type": "code",
   "execution_count": null,
   "id": "9c25cacd",
   "metadata": {},
   "outputs": [],
   "source": [
    "# # Show number of duplicated rows\n",
    "# print(f\"No. of entirely duplicated rows: {df.duplicated().sum()}\")\n",
    "\n",
    "# # Show duplicated rows\n",
    "# df[df.duplicated()]"
   ]
  },
  {
   "attachments": {},
   "cell_type": "markdown",
   "id": "8d11d5a3",
   "metadata": {},
   "source": [
    "#### Check Uniqueness of Data"
   ]
  },
  {
   "cell_type": "code",
   "execution_count": null,
   "id": "4c863f15",
   "metadata": {},
   "outputs": [],
   "source": [
    "# # Print the number of unique values\n",
    "# num_unique = df.nunique().sort_values()\n",
    "# print('---- Number of Unique Values -----')\n",
    "# print(num_unique)"
   ]
  },
  {
   "attachments": {},
   "cell_type": "markdown",
   "id": "d4656ff2",
   "metadata": {},
   "source": [
    "#### Check Data Range"
   ]
  },
  {
   "cell_type": "code",
   "execution_count": null,
   "id": "ea776072",
   "metadata": {},
   "outputs": [],
   "source": [
    "# # Print summary statistics\n",
    "# df.describe(include='all')"
   ]
  },
  {
   "attachments": {},
   "cell_type": "markdown",
   "id": "b5bd35fa",
   "metadata": {},
   "source": [
    "### Areas to Fix\n",
    "**Data Types**\n",
    "- [ ] Issue 1\n",
    "\n",
    "**Missing Data**\n",
    "- [ ] \n",
    "\n",
    "**Duplicate Rows**\n",
    "- [ ]\n",
    "\n",
    "**Uniqueness of Data**\n",
    "- [ ]\n",
    "\n",
    "**Data Range**\n",
    "- [ ]"
   ]
  },
  {
   "attachments": {},
   "cell_type": "markdown",
   "id": "d72d4d40",
   "metadata": {},
   "source": [
    "---"
   ]
  },
  {
   "cell_type": "markdown",
   "id": "e7fa95fc",
   "metadata": {},
   "source": [
    "# 3"
   ]
  },
  {
   "attachments": {},
   "cell_type": "markdown",
   "id": "017baefc",
   "metadata": {},
   "source": [
    "## Data Preprocessing"
   ]
  },
  {
   "attachments": {},
   "cell_type": "markdown",
   "id": "7e23ddbf",
   "metadata": {},
   "source": [
    "Here you can add sections like:\n",
    "\n",
    "- Renaming columns\n",
    "- Drop Redundant Columns\n",
    "- Changing Data Types\n",
    "- Dropping Duplicates\n",
    "- Handling Missing Values\n",
    "- Handling Unreasonable Data Ranges\n",
    "- Feature Engineering / Transformation\n",
    "\n",
    "Use `assert` where possible to show that preprocessing is done."
   ]
  },
  {
   "attachments": {},
   "cell_type": "markdown",
   "id": "09f3d915",
   "metadata": {},
   "source": [
    "### Rename Columns"
   ]
  },
  {
   "cell_type": "code",
   "execution_count": null,
   "id": "4aa93e76",
   "metadata": {},
   "outputs": [],
   "source": [
    "# # Rename columns\n",
    "# columns_to_rename = {}\n",
    "# df.rename(columns=columns_to_rename, inplace=True)"
   ]
  },
  {
   "cell_type": "code",
   "execution_count": null,
   "id": "e24457a7",
   "metadata": {},
   "outputs": [],
   "source": [
    "# # Verify columns are renamed\n",
    "# df.columns"
   ]
  },
  {
   "attachments": {},
   "cell_type": "markdown",
   "id": "fae53811",
   "metadata": {},
   "source": [
    "### Drop Redundant Columns"
   ]
  },
  {
   "cell_type": "code",
   "execution_count": null,
   "id": "0d650ef8",
   "metadata": {},
   "outputs": [],
   "source": [
    "# # Check the proportion of the most frequent value in each column\n",
    "# print('---- Frequency of the Mode (%) -----')\n",
    "# mode_dict = {col: (df[col].value_counts().iat[0] / df[col].size * 100) for col in df.columns}\n",
    "# mode_series = pd.Series(mode_dict)\n",
    "# mode_series"
   ]
  },
  {
   "cell_type": "code",
   "execution_count": null,
   "id": "da816089",
   "metadata": {},
   "outputs": [],
   "source": [
    "# # Show the value frequency of each column greater than the mode's threshold\n",
    "# threshold = 80\n",
    "# for col in mode_series[mode_series > threshold].index:\n",
    "#     print(df[col].value_counts(dropna=False))\n",
    "#     print()"
   ]
  },
  {
   "cell_type": "code",
   "execution_count": null,
   "id": "af43acca",
   "metadata": {},
   "outputs": [],
   "source": [
    "# # Drop columns \n",
    "# cols_to_drop = []\n",
    "# df.drop(columns=cols_to_drop, axis=1, inplace=True)"
   ]
  },
  {
   "cell_type": "code",
   "execution_count": null,
   "id": "493b1a05",
   "metadata": {},
   "outputs": [],
   "source": [
    "# # Verify columns dropped\n",
    "# assert all(col not in df.columns for col in cols_to_drop)"
   ]
  },
  {
   "attachments": {},
   "cell_type": "markdown",
   "id": "c71c38ca",
   "metadata": {},
   "source": [
    "### Changing Data Types"
   ]
  },
  {
   "cell_type": "code",
   "execution_count": null,
   "id": "9908ba2e",
   "metadata": {},
   "outputs": [],
   "source": [
    "# # Convert columns to the right data types\n",
    "# df[col] = df[col].astype('string')\n",
    "# df[col] = df[col].astype('int')\n",
    "# df[col] = pd.to_datetime(df[col], infer_datetime_format=True)"
   ]
  },
  {
   "cell_type": "code",
   "execution_count": null,
   "id": "fdf8602c",
   "metadata": {},
   "outputs": [],
   "source": [
    "# # Verify conversion\n",
    "# assert ptypes.is_string_dtype(col)\n",
    "# assert ptypes.is_numeric_dtype(col)\n",
    "# cols_to_check = []\n",
    "# assert all(ptypes.is_datetime64_any_dtype(df[col]) for col in cols_to_check)"
   ]
  },
  {
   "attachments": {},
   "cell_type": "markdown",
   "id": "4dab1e1e",
   "metadata": {},
   "source": [
    "### Dropping Duplicates"
   ]
  },
  {
   "cell_type": "code",
   "execution_count": 5,
   "id": "b1f72d31",
   "metadata": {},
   "outputs": [],
   "source": [
    "# # Drop entirely duplicated rows\n",
    "# df.drop_duplicates(inplace=True, ignore_index=True)"
   ]
  },
  {
   "cell_type": "code",
   "execution_count": 2,
   "id": "f7e04985",
   "metadata": {},
   "outputs": [],
   "source": [
    "# # Verify rows dropped\n",
    "# assert df.duplicated().sum()==0"
   ]
  },
  {
   "attachments": {},
   "cell_type": "markdown",
   "id": "a6d0ee59",
   "metadata": {},
   "source": [
    "### Handling Missing Values"
   ]
  },
  {
   "attachments": {},
   "cell_type": "markdown",
   "id": "aba182c3",
   "metadata": {},
   "source": [
    "### Handling Unreasonable Data Ranges"
   ]
  },
  {
   "cell_type": "code",
   "execution_count": 3,
   "id": "1dd6b930",
   "metadata": {},
   "outputs": [],
   "source": [
    "# # Drop affected rows\n",
    "# df = df.loc[~((df['A'] == 0) | (df['B'] > 100))].reset_index()"
   ]
  },
  {
   "cell_type": "code",
   "execution_count": 4,
   "id": "581affc9",
   "metadata": {},
   "outputs": [],
   "source": [
    "# # Verify rows dropped\n",
    "# len(df)"
   ]
  },
  {
   "attachments": {},
   "cell_type": "markdown",
   "id": "6946b59c",
   "metadata": {},
   "source": [
    "### Feature Engineering / Transformation"
   ]
  },
  {
   "attachments": {},
   "cell_type": "markdown",
   "id": "f7edbaad",
   "metadata": {},
   "source": [
    "---"
   ]
  },
  {
   "cell_type": "markdown",
   "id": "a7aa69cf",
   "metadata": {},
   "source": [
    "# 4"
   ]
  },
  {
   "attachments": {},
   "cell_type": "markdown",
   "id": "934c3750",
   "metadata": {},
   "source": [
    "## Exploratory Data Analysis"
   ]
  },
  {
   "cell_type": "markdown",
   "id": "5289a18f",
   "metadata": {},
   "source": [
    "Here is where your analysis begins. You can add different sections based on your project goals."
   ]
  },
  {
   "attachments": {},
   "cell_type": "markdown",
   "id": "c14145e8",
   "metadata": {},
   "source": [
    "### Exploring `Column Name`"
   ]
  },
  {
   "cell_type": "code",
   "execution_count": null,
   "id": "1da79ee9",
   "metadata": {},
   "outputs": [],
   "source": [
    "# Code and visualization"
   ]
  },
  {
   "attachments": {},
   "cell_type": "markdown",
   "id": "cc6a1f0f",
   "metadata": {},
   "source": [
    "**Observations**\n",
    "- Ob 1\n",
    "- Ob 2\n",
    "- Ob 3"
   ]
  },
  {
   "attachments": {},
   "cell_type": "markdown",
   "id": "523b06e7",
   "metadata": {},
   "source": [
    "---"
   ]
  },
  {
   "cell_type": "markdown",
   "id": "46c6b6e1",
   "metadata": {},
   "source": [
    "# 5"
   ]
  },
  {
   "attachments": {},
   "cell_type": "markdown",
   "id": "0bc7ba8f",
   "metadata": {},
   "source": [
    "## Conclusion\n",
    "\n",
    "### Insights \n",
    "State the insights/outcomes of your project or notebook."
   ]
  },
  {
   "attachments": {},
   "cell_type": "markdown",
   "id": "4a9e7097",
   "metadata": {},
   "source": [
    "### Suggestions\n",
    "\n",
    "Make suggestions based on insights."
   ]
  },
  {
   "attachments": {},
   "cell_type": "markdown",
   "id": "9a712d72",
   "metadata": {},
   "source": [
    "### Possible Next Steps\n",
    "Areas to expand on:\n",
    "- (if there is any)"
   ]
  },
  {
   "attachments": {},
   "cell_type": "markdown",
   "id": "3a580798",
   "metadata": {},
   "source": [
    "---"
   ]
  },
  {
   "cell_type": "markdown",
   "id": "81cfcf8f",
   "metadata": {},
   "source": [
    "# 6"
   ]
  },
  {
   "attachments": {},
   "cell_type": "markdown",
   "id": "98b654b3",
   "metadata": {},
   "source": [
    "## Epilogue\n",
    "\n",
    "### References\n",
    "\n",
    "This is how we use inline citation[<sup id=\"fn1-back\">[1]</sup>](#fn1).\n",
    "\n",
    "[<span id=\"fn1\">1.</span>](#fn1-back) _subject (date)._ Title. Available at: https://website.com (Accessed: Date). \n",
    "\n",
    "> Use [https://www.citethisforme.com/](https://www.citethisforme.com/) to create citations."
   ]
  },
  {
   "attachments": {},
   "cell_type": "markdown",
   "id": "1257372b",
   "metadata": {},
   "source": [
    "### Versioning\n",
    "Notebook and insights by (author).\n",
    "- Version: 1.0.0\n",
    "- Date: "
   ]
  }
 ],
 "metadata": {
  "kernelspec": {
   "display_name": "base",
   "language": "python",
   "name": "python3"
  },
  "language_info": {
   "codemirror_mode": {
    "name": "ipython",
    "version": 3
   },
   "file_extension": ".py",
   "mimetype": "text/x-python",
   "name": "python",
   "nbconvert_exporter": "python",
   "pygments_lexer": "ipython3",
   "version": "3.9.15"
  },
  "vscode": {
   "interpreter": {
    "hash": "fafc50dc8a0fe30378212a6e8a815037b6b7ff0aadeb98c480725f88009956fb"
   }
  }
 },
 "nbformat": 4,
 "nbformat_minor": 5
}
