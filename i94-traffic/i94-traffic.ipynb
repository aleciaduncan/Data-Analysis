{
 "cells": [
  {
   "attachments": {},
   "cell_type": "markdown",
   "id": "6d2e410e",
   "metadata": {},
   "source": [
    "# Westbound I-94 Traffic "
   ]
  },
  {
   "attachments": {},
   "cell_type": "markdown",
   "id": "11138c3d",
   "metadata": {},
   "source": [
    "## Table of Contents\n",
    "\n",
    "1. [**Introduction**](#1)\n",
    "    - Project Description\n",
    "    - Data Description\n",
    "2. [**Acquiring and Loading Data**](#2)\n",
    "\t- Importing Libraries and Notebook Setup\n",
    "    - Loading Data\n",
    "    - Basic Data Exploration\n",
    "    - Areas to Fix\n",
    "3. [**Data Proprocessing**](#3)\n",
    "4. [**Exploratory Data Analysis**](#4)\n",
    "5. [**Conclusion**](#5)\n",
    "    - Insights\n",
    "    - Suggestions\n",
    "    - Possible Next Steps\n",
    "6. [**Epilogue**](#6) \n",
    "    - References\n",
    "    - Versioning"
   ]
  },
  {
   "attachments": {},
   "cell_type": "markdown",
   "id": "7f42c6c9",
   "metadata": {},
   "source": [
    "---"
   ]
  },
  {
   "cell_type": "markdown",
   "id": "5582744b",
   "metadata": {},
   "source": [
    "# 1"
   ]
  },
  {
   "attachments": {},
   "cell_type": "markdown",
   "id": "58c986fc",
   "metadata": {},
   "source": [
    "## Introduction\n",
    "\n",
    "![Minneapolis - St. Paul](mn-stpl.png)\n",
    "\n",
    "### Project Description\n",
    "\n",
    "**Goal/Purpose:** \n",
    "\n",
    "The goal of this project is to determine indicators of heavy traffic on I-94. \n",
    "\n",
    "<p>&nbsp;</p>\n",
    "\n",
    "**Questions to be Answered:**\n",
    "\n",
    "- How does weather impact traffic? \n",
    "- What are the seasonal impacts on traffic?\n",
    "- What is the average impact to travel during heavy commute periods?\n",
    "\n",
    "<p>&nbsp;</p>\n",
    "\n",
    "**Assumptions/Methodology/Scope:** \n",
    "\n",
    "Briefly describe assumptions,processing steps, and the scope of this project.\n",
    "\n",
    "<p>&nbsp;</p>\n",
    "\n",
    "### Data Description\n",
    "\n",
    "**Content:** \n",
    "\n",
    "This dataset is a csv file about Minneapolis-St.Paul traffic. The dataset lasts from 2012-2018 and contains hourly information about westbound traffic on I-94, including weather and holidays. \n",
    "\n",
    "<p>&nbsp;</p>\n",
    "\n",
    "**Description of Attributes:** \n",
    "\n",
    "Here you can describe what each column represents.\n",
    "| Column  | Description |\n",
    "| :------ | :---------- |\n",
    "| holiday | Categorical US National holidays plus regional holiday, Minnesota State Fair |\n",
    "| temp | Numeric Average temp in kelvin |\n",
    "| rain_1h | Numeric Amount in mm of rain that occurred in the hour |\n",
    "| snow_1h | Numeric Amount in mm of snow that occurred in the hour  |\n",
    "| clouds_all | Numeric Percentage of cloud cover |\n",
    "| weather_main | Categorical Short textual description of the current weather |\n",
    "| weather_description | Categorical Longer textual description of current weather |\n",
    "| date_time | DateTime Hour of the data collected in local CST time |\n",
    "| traffic_volume | Numeric Hourly I-94 ATR 301 reported westbound traffic  |\n",
    "<p>&nbsp;</p>\n",
    "\n",
    "**Acknowledgements:** \n",
    "\n",
    "This dataset is provided by John Hogue, Social Data Science & General Mills,  and the original source can be found on [Metro Interstate Traffic Volume Data Set - UCI Machine Learning Repository](https://archive.ics.uci.edu/ml/datasets/Metro+Interstate+Traffic+Volume#)."
   ]
  },
  {
   "attachments": {},
   "cell_type": "markdown",
   "id": "2a46158b",
   "metadata": {},
   "source": [
    "---"
   ]
  },
  {
   "cell_type": "markdown",
   "id": "27cb5f7b",
   "metadata": {},
   "source": [
    "# 2"
   ]
  },
  {
   "attachments": {},
   "cell_type": "markdown",
   "id": "5aff919e",
   "metadata": {},
   "source": [
    "## Acquiring and Loading Data\n",
    "### Importing Libraries and Notebook Setup"
   ]
  },
  {
   "cell_type": "code",
   "execution_count": 114,
   "id": "2d3c91f4",
   "metadata": {},
   "outputs": [],
   "source": [
    "# Ignore warnings if needed\n",
    "import warnings\n",
    "warnings.filterwarnings('ignore')\n",
    "\n",
    "# Data manipulation\n",
    "import datetime\n",
    "import numpy as np\n",
    "import pandas as pd\n",
    "import pandas.api.types as ptypes\n",
    "\n",
    "# Visualizations\n",
    "import matplotlib.pyplot as plt\n",
    "import seaborn as sns\n",
    "%matplotlib inline\n",
    "\n",
    "# Pandas settings\n",
    "pd.options.display.max_columns = None\n",
    "pd.options.display.max_colwidth = 60\n",
    "pd.options.display.float_format = '{:,.3f}'.format\n",
    "\n",
    "# Visualization settings\n",
    "from matplotlib import rcParams\n",
    "plt.style.use('dark_background')\n",
    "rcParams['figure.figsize'] = (16, 5)   \n",
    "rcParams['axes.spines.right'] = False\n",
    "rcParams['axes.spines.top'] = False\n",
    "rcParams['font.size'] = 12\n",
    "# rcParams['figure.dpi'] = 300\n",
    "rcParams['savefig.dpi'] = 300\n",
    "plt.rc('xtick', labelsize=11)\n",
    "plt.rc('ytick', labelsize=11)\n",
    "custom_palette = ['#003f5c', '#444e86', '#955196', '#dd5182', '#ff6e54', '#ffa600']\n",
    "custom_hue = ['#004c6d', '#346888', '#5886a5', '#7aa6c2', '#9dc6e0', '#c1e7ff']\n",
    "custom_divergent = ['#00876c', '#6aaa96', '#aecdc2', '#f1f1f1', '#f0b8b8', '#e67f83', '#d43d51']\n",
    "sns.set_palette(custom_palette)\n",
    "%config InlineBackend.figure_format = 'retina'"
   ]
  },
  {
   "attachments": {},
   "cell_type": "markdown",
   "id": "9b4388c3",
   "metadata": {},
   "source": [
    "### Loading Data"
   ]
  },
  {
   "cell_type": "code",
   "execution_count": 115,
   "id": "d9db55db",
   "metadata": {},
   "outputs": [],
   "source": [
    "# Load DataFrame\n",
    "file = 'metro_interstate_traffic_volume.csv'\n",
    "traffic = pd.read_csv(file)"
   ]
  },
  {
   "attachments": {},
   "cell_type": "markdown",
   "id": "57cfe0e7",
   "metadata": {},
   "source": [
    "### Basic Data Exploration"
   ]
  },
  {
   "attachments": {},
   "cell_type": "markdown",
   "id": "1926c818",
   "metadata": {},
   "source": [
    "#### Number of Rows and Columns"
   ]
  },
  {
   "cell_type": "code",
   "execution_count": 116,
   "id": "4fa28f05",
   "metadata": {},
   "outputs": [
    {
     "name": "stdout",
     "output_type": "stream",
     "text": [
      "Rows count: 48204\n",
      "Columns count: 9\n"
     ]
    }
   ],
   "source": [
    "# Show rows and columns count\n",
    "print(f\"Rows count: {traffic.shape[0]}\\nColumns count: {traffic.shape[1]}\")"
   ]
  },
  {
   "attachments": {},
   "cell_type": "markdown",
   "id": "70bf95bb",
   "metadata": {},
   "source": [
    "#### Display First and Last Rows"
   ]
  },
  {
   "cell_type": "code",
   "execution_count": 117,
   "id": "e1fa1ba8",
   "metadata": {},
   "outputs": [
    {
     "data": {
      "text/html": [
       "<div>\n",
       "<style scoped>\n",
       "    .dataframe tbody tr th:only-of-type {\n",
       "        vertical-align: middle;\n",
       "    }\n",
       "\n",
       "    .dataframe tbody tr th {\n",
       "        vertical-align: top;\n",
       "    }\n",
       "\n",
       "    .dataframe thead th {\n",
       "        text-align: right;\n",
       "    }\n",
       "</style>\n",
       "<table border=\"1\" class=\"dataframe\">\n",
       "  <thead>\n",
       "    <tr style=\"text-align: right;\">\n",
       "      <th></th>\n",
       "      <th>holiday</th>\n",
       "      <th>temp</th>\n",
       "      <th>rain_1h</th>\n",
       "      <th>snow_1h</th>\n",
       "      <th>clouds_all</th>\n",
       "      <th>weather_main</th>\n",
       "      <th>weather_description</th>\n",
       "      <th>date_time</th>\n",
       "      <th>traffic_volume</th>\n",
       "    </tr>\n",
       "  </thead>\n",
       "  <tbody>\n",
       "    <tr>\n",
       "      <th>0</th>\n",
       "      <td>NaN</td>\n",
       "      <td>288.280</td>\n",
       "      <td>0.000</td>\n",
       "      <td>0.000</td>\n",
       "      <td>40</td>\n",
       "      <td>Clouds</td>\n",
       "      <td>scattered clouds</td>\n",
       "      <td>2012-10-02 09:00:00</td>\n",
       "      <td>5545</td>\n",
       "    </tr>\n",
       "    <tr>\n",
       "      <th>1</th>\n",
       "      <td>NaN</td>\n",
       "      <td>289.360</td>\n",
       "      <td>0.000</td>\n",
       "      <td>0.000</td>\n",
       "      <td>75</td>\n",
       "      <td>Clouds</td>\n",
       "      <td>broken clouds</td>\n",
       "      <td>2012-10-02 10:00:00</td>\n",
       "      <td>4516</td>\n",
       "    </tr>\n",
       "    <tr>\n",
       "      <th>2</th>\n",
       "      <td>NaN</td>\n",
       "      <td>289.580</td>\n",
       "      <td>0.000</td>\n",
       "      <td>0.000</td>\n",
       "      <td>90</td>\n",
       "      <td>Clouds</td>\n",
       "      <td>overcast clouds</td>\n",
       "      <td>2012-10-02 11:00:00</td>\n",
       "      <td>4767</td>\n",
       "    </tr>\n",
       "    <tr>\n",
       "      <th>3</th>\n",
       "      <td>NaN</td>\n",
       "      <td>290.130</td>\n",
       "      <td>0.000</td>\n",
       "      <td>0.000</td>\n",
       "      <td>90</td>\n",
       "      <td>Clouds</td>\n",
       "      <td>overcast clouds</td>\n",
       "      <td>2012-10-02 12:00:00</td>\n",
       "      <td>5026</td>\n",
       "    </tr>\n",
       "    <tr>\n",
       "      <th>4</th>\n",
       "      <td>NaN</td>\n",
       "      <td>291.140</td>\n",
       "      <td>0.000</td>\n",
       "      <td>0.000</td>\n",
       "      <td>75</td>\n",
       "      <td>Clouds</td>\n",
       "      <td>broken clouds</td>\n",
       "      <td>2012-10-02 13:00:00</td>\n",
       "      <td>4918</td>\n",
       "    </tr>\n",
       "  </tbody>\n",
       "</table>\n",
       "</div>"
      ],
      "text/plain": [
       "  holiday    temp  rain_1h  snow_1h  clouds_all weather_main   \n",
       "0     NaN 288.280    0.000    0.000          40       Clouds  \\\n",
       "1     NaN 289.360    0.000    0.000          75       Clouds   \n",
       "2     NaN 289.580    0.000    0.000          90       Clouds   \n",
       "3     NaN 290.130    0.000    0.000          90       Clouds   \n",
       "4     NaN 291.140    0.000    0.000          75       Clouds   \n",
       "\n",
       "  weather_description            date_time  traffic_volume  \n",
       "0    scattered clouds  2012-10-02 09:00:00            5545  \n",
       "1       broken clouds  2012-10-02 10:00:00            4516  \n",
       "2     overcast clouds  2012-10-02 11:00:00            4767  \n",
       "3     overcast clouds  2012-10-02 12:00:00            5026  \n",
       "4       broken clouds  2012-10-02 13:00:00            4918  "
      ]
     },
     "execution_count": 117,
     "metadata": {},
     "output_type": "execute_result"
    }
   ],
   "source": [
    "# Look at first 5 rows\n",
    "traffic.head()"
   ]
  },
  {
   "cell_type": "code",
   "execution_count": 118,
   "id": "53c7aa44",
   "metadata": {},
   "outputs": [
    {
     "data": {
      "text/html": [
       "<div>\n",
       "<style scoped>\n",
       "    .dataframe tbody tr th:only-of-type {\n",
       "        vertical-align: middle;\n",
       "    }\n",
       "\n",
       "    .dataframe tbody tr th {\n",
       "        vertical-align: top;\n",
       "    }\n",
       "\n",
       "    .dataframe thead th {\n",
       "        text-align: right;\n",
       "    }\n",
       "</style>\n",
       "<table border=\"1\" class=\"dataframe\">\n",
       "  <thead>\n",
       "    <tr style=\"text-align: right;\">\n",
       "      <th></th>\n",
       "      <th>holiday</th>\n",
       "      <th>temp</th>\n",
       "      <th>rain_1h</th>\n",
       "      <th>snow_1h</th>\n",
       "      <th>clouds_all</th>\n",
       "      <th>weather_main</th>\n",
       "      <th>weather_description</th>\n",
       "      <th>date_time</th>\n",
       "      <th>traffic_volume</th>\n",
       "    </tr>\n",
       "  </thead>\n",
       "  <tbody>\n",
       "    <tr>\n",
       "      <th>48199</th>\n",
       "      <td>NaN</td>\n",
       "      <td>283.450</td>\n",
       "      <td>0.000</td>\n",
       "      <td>0.000</td>\n",
       "      <td>75</td>\n",
       "      <td>Clouds</td>\n",
       "      <td>broken clouds</td>\n",
       "      <td>2018-09-30 19:00:00</td>\n",
       "      <td>3543</td>\n",
       "    </tr>\n",
       "    <tr>\n",
       "      <th>48200</th>\n",
       "      <td>NaN</td>\n",
       "      <td>282.760</td>\n",
       "      <td>0.000</td>\n",
       "      <td>0.000</td>\n",
       "      <td>90</td>\n",
       "      <td>Clouds</td>\n",
       "      <td>overcast clouds</td>\n",
       "      <td>2018-09-30 20:00:00</td>\n",
       "      <td>2781</td>\n",
       "    </tr>\n",
       "    <tr>\n",
       "      <th>48201</th>\n",
       "      <td>NaN</td>\n",
       "      <td>282.730</td>\n",
       "      <td>0.000</td>\n",
       "      <td>0.000</td>\n",
       "      <td>90</td>\n",
       "      <td>Thunderstorm</td>\n",
       "      <td>proximity thunderstorm</td>\n",
       "      <td>2018-09-30 21:00:00</td>\n",
       "      <td>2159</td>\n",
       "    </tr>\n",
       "    <tr>\n",
       "      <th>48202</th>\n",
       "      <td>NaN</td>\n",
       "      <td>282.090</td>\n",
       "      <td>0.000</td>\n",
       "      <td>0.000</td>\n",
       "      <td>90</td>\n",
       "      <td>Clouds</td>\n",
       "      <td>overcast clouds</td>\n",
       "      <td>2018-09-30 22:00:00</td>\n",
       "      <td>1450</td>\n",
       "    </tr>\n",
       "    <tr>\n",
       "      <th>48203</th>\n",
       "      <td>NaN</td>\n",
       "      <td>282.120</td>\n",
       "      <td>0.000</td>\n",
       "      <td>0.000</td>\n",
       "      <td>90</td>\n",
       "      <td>Clouds</td>\n",
       "      <td>overcast clouds</td>\n",
       "      <td>2018-09-30 23:00:00</td>\n",
       "      <td>954</td>\n",
       "    </tr>\n",
       "  </tbody>\n",
       "</table>\n",
       "</div>"
      ],
      "text/plain": [
       "      holiday    temp  rain_1h  snow_1h  clouds_all  weather_main   \n",
       "48199     NaN 283.450    0.000    0.000          75        Clouds  \\\n",
       "48200     NaN 282.760    0.000    0.000          90        Clouds   \n",
       "48201     NaN 282.730    0.000    0.000          90  Thunderstorm   \n",
       "48202     NaN 282.090    0.000    0.000          90        Clouds   \n",
       "48203     NaN 282.120    0.000    0.000          90        Clouds   \n",
       "\n",
       "          weather_description            date_time  traffic_volume  \n",
       "48199           broken clouds  2018-09-30 19:00:00            3543  \n",
       "48200         overcast clouds  2018-09-30 20:00:00            2781  \n",
       "48201  proximity thunderstorm  2018-09-30 21:00:00            2159  \n",
       "48202         overcast clouds  2018-09-30 22:00:00            1450  \n",
       "48203         overcast clouds  2018-09-30 23:00:00             954  "
      ]
     },
     "execution_count": 118,
     "metadata": {},
     "output_type": "execute_result"
    }
   ],
   "source": [
    "# Look at last 5 rows\n",
    "traffic.tail()"
   ]
  },
  {
   "attachments": {},
   "cell_type": "markdown",
   "id": "11e8e96f",
   "metadata": {},
   "source": [
    "#### Check Data Types"
   ]
  },
  {
   "cell_type": "code",
   "execution_count": 119,
   "id": "47b0d2fc",
   "metadata": {},
   "outputs": [
    {
     "name": "stdout",
     "output_type": "stream",
     "text": [
      "<class 'pandas.core.frame.DataFrame'>\n",
      "RangeIndex: 48204 entries, 0 to 48203\n",
      "Data columns (total 9 columns):\n",
      " #   Column               Non-Null Count  Dtype  \n",
      "---  ------               --------------  -----  \n",
      " 0   holiday              61 non-null     object \n",
      " 1   temp                 48204 non-null  float64\n",
      " 2   rain_1h              48204 non-null  float64\n",
      " 3   snow_1h              48204 non-null  float64\n",
      " 4   clouds_all           48204 non-null  int64  \n",
      " 5   weather_main         48204 non-null  object \n",
      " 6   weather_description  48204 non-null  object \n",
      " 7   date_time            48204 non-null  object \n",
      " 8   traffic_volume       48204 non-null  int64  \n",
      "dtypes: float64(3), int64(2), object(4)\n",
      "memory usage: 3.3+ MB\n"
     ]
    }
   ],
   "source": [
    "# Show data types\n",
    "traffic.info()"
   ]
  },
  {
   "attachments": {},
   "cell_type": "markdown",
   "id": "76ca447a",
   "metadata": {},
   "source": [
    "- `holiday`, `weather_main`, `weather_description`, `date_time` are **strings**.\n",
    "- `temp`, `rain_1h`, and `snow_1h` are **floats**.\n",
    "- `clouds_all` and `traffic_volume` are **integers**."
   ]
  },
  {
   "attachments": {},
   "cell_type": "markdown",
   "id": "c859deaf",
   "metadata": {},
   "source": [
    "#### Check Missing Data"
   ]
  },
  {
   "cell_type": "code",
   "execution_count": 120,
   "id": "969ad268",
   "metadata": {},
   "outputs": [
    {
     "name": "stdout",
     "output_type": "stream",
     "text": [
      "---- Percentage of Missing Values (%) -----\n",
      "holiday   99.873\n",
      "dtype: float64\n"
     ]
    }
   ],
   "source": [
    "# Print percentage of missing values\n",
    "missing_percent = traffic.isna().mean().sort_values(ascending=False)\n",
    "print('---- Percentage of Missing Values (%) -----')\n",
    "if missing_percent.sum():\n",
    "    print(missing_percent[missing_percent > 0] * 100)\n",
    "else:\n",
    "    print(None)"
   ]
  },
  {
   "attachments": {},
   "cell_type": "markdown",
   "id": "5c454485",
   "metadata": {},
   "source": [
    "#### Check for Duplicate Rows"
   ]
  },
  {
   "cell_type": "code",
   "execution_count": 121,
   "id": "9c25cacd",
   "metadata": {},
   "outputs": [
    {
     "name": "stdout",
     "output_type": "stream",
     "text": [
      "No. of entirely duplicated rows: 17\n"
     ]
    },
    {
     "data": {
      "text/html": [
       "<div>\n",
       "<style scoped>\n",
       "    .dataframe tbody tr th:only-of-type {\n",
       "        vertical-align: middle;\n",
       "    }\n",
       "\n",
       "    .dataframe tbody tr th {\n",
       "        vertical-align: top;\n",
       "    }\n",
       "\n",
       "    .dataframe thead th {\n",
       "        text-align: right;\n",
       "    }\n",
       "</style>\n",
       "<table border=\"1\" class=\"dataframe\">\n",
       "  <thead>\n",
       "    <tr style=\"text-align: right;\">\n",
       "      <th></th>\n",
       "      <th>holiday</th>\n",
       "      <th>temp</th>\n",
       "      <th>rain_1h</th>\n",
       "      <th>snow_1h</th>\n",
       "      <th>clouds_all</th>\n",
       "      <th>weather_main</th>\n",
       "      <th>weather_description</th>\n",
       "      <th>date_time</th>\n",
       "      <th>traffic_volume</th>\n",
       "    </tr>\n",
       "  </thead>\n",
       "  <tbody>\n",
       "    <tr>\n",
       "      <th>18697</th>\n",
       "      <td>NaN</td>\n",
       "      <td>286.290</td>\n",
       "      <td>0.000</td>\n",
       "      <td>0.000</td>\n",
       "      <td>1</td>\n",
       "      <td>Clear</td>\n",
       "      <td>sky is clear</td>\n",
       "      <td>2015-09-30 19:00:00</td>\n",
       "      <td>3679</td>\n",
       "    </tr>\n",
       "    <tr>\n",
       "      <th>23851</th>\n",
       "      <td>NaN</td>\n",
       "      <td>289.060</td>\n",
       "      <td>0.000</td>\n",
       "      <td>0.000</td>\n",
       "      <td>90</td>\n",
       "      <td>Clouds</td>\n",
       "      <td>overcast clouds</td>\n",
       "      <td>2016-06-01 10:00:00</td>\n",
       "      <td>4831</td>\n",
       "    </tr>\n",
       "    <tr>\n",
       "      <th>26784</th>\n",
       "      <td>NaN</td>\n",
       "      <td>289.775</td>\n",
       "      <td>0.000</td>\n",
       "      <td>0.000</td>\n",
       "      <td>56</td>\n",
       "      <td>Clouds</td>\n",
       "      <td>broken clouds</td>\n",
       "      <td>2016-09-21 15:00:00</td>\n",
       "      <td>5365</td>\n",
       "    </tr>\n",
       "    <tr>\n",
       "      <th>26980</th>\n",
       "      <td>NaN</td>\n",
       "      <td>287.860</td>\n",
       "      <td>0.000</td>\n",
       "      <td>0.000</td>\n",
       "      <td>0</td>\n",
       "      <td>Clear</td>\n",
       "      <td>Sky is Clear</td>\n",
       "      <td>2016-09-29 19:00:00</td>\n",
       "      <td>3435</td>\n",
       "    </tr>\n",
       "    <tr>\n",
       "      <th>27171</th>\n",
       "      <td>NaN</td>\n",
       "      <td>279.287</td>\n",
       "      <td>0.000</td>\n",
       "      <td>0.000</td>\n",
       "      <td>56</td>\n",
       "      <td>Clouds</td>\n",
       "      <td>broken clouds</td>\n",
       "      <td>2016-10-07 18:00:00</td>\n",
       "      <td>4642</td>\n",
       "    </tr>\n",
       "    <tr>\n",
       "      <th>28879</th>\n",
       "      <td>NaN</td>\n",
       "      <td>267.890</td>\n",
       "      <td>0.000</td>\n",
       "      <td>0.000</td>\n",
       "      <td>90</td>\n",
       "      <td>Snow</td>\n",
       "      <td>light snow</td>\n",
       "      <td>2016-12-06 18:00:00</td>\n",
       "      <td>4520</td>\n",
       "    </tr>\n",
       "    <tr>\n",
       "      <th>29268</th>\n",
       "      <td>NaN</td>\n",
       "      <td>254.220</td>\n",
       "      <td>0.000</td>\n",
       "      <td>0.000</td>\n",
       "      <td>1</td>\n",
       "      <td>Clear</td>\n",
       "      <td>sky is clear</td>\n",
       "      <td>2016-12-19 00:00:00</td>\n",
       "      <td>420</td>\n",
       "    </tr>\n",
       "    <tr>\n",
       "      <th>34711</th>\n",
       "      <td>NaN</td>\n",
       "      <td>295.010</td>\n",
       "      <td>0.000</td>\n",
       "      <td>0.000</td>\n",
       "      <td>40</td>\n",
       "      <td>Clouds</td>\n",
       "      <td>scattered clouds</td>\n",
       "      <td>2017-06-21 11:00:00</td>\n",
       "      <td>4808</td>\n",
       "    </tr>\n",
       "    <tr>\n",
       "      <th>34967</th>\n",
       "      <td>NaN</td>\n",
       "      <td>292.840</td>\n",
       "      <td>0.000</td>\n",
       "      <td>0.000</td>\n",
       "      <td>1</td>\n",
       "      <td>Clear</td>\n",
       "      <td>sky is clear</td>\n",
       "      <td>2017-06-30 10:00:00</td>\n",
       "      <td>4638</td>\n",
       "    </tr>\n",
       "    <tr>\n",
       "      <th>34969</th>\n",
       "      <td>NaN</td>\n",
       "      <td>294.520</td>\n",
       "      <td>0.000</td>\n",
       "      <td>0.000</td>\n",
       "      <td>1</td>\n",
       "      <td>Clear</td>\n",
       "      <td>sky is clear</td>\n",
       "      <td>2017-06-30 11:00:00</td>\n",
       "      <td>4725</td>\n",
       "    </tr>\n",
       "    <tr>\n",
       "      <th>34971</th>\n",
       "      <td>NaN</td>\n",
       "      <td>295.770</td>\n",
       "      <td>0.000</td>\n",
       "      <td>0.000</td>\n",
       "      <td>75</td>\n",
       "      <td>Clouds</td>\n",
       "      <td>broken clouds</td>\n",
       "      <td>2017-06-30 12:00:00</td>\n",
       "      <td>5229</td>\n",
       "    </tr>\n",
       "    <tr>\n",
       "      <th>34973</th>\n",
       "      <td>NaN</td>\n",
       "      <td>296.950</td>\n",
       "      <td>0.000</td>\n",
       "      <td>0.000</td>\n",
       "      <td>1</td>\n",
       "      <td>Thunderstorm</td>\n",
       "      <td>thunderstorm</td>\n",
       "      <td>2017-06-30 13:00:00</td>\n",
       "      <td>5263</td>\n",
       "    </tr>\n",
       "    <tr>\n",
       "      <th>37572</th>\n",
       "      <td>NaN</td>\n",
       "      <td>288.890</td>\n",
       "      <td>0.000</td>\n",
       "      <td>0.000</td>\n",
       "      <td>1</td>\n",
       "      <td>Clear</td>\n",
       "      <td>sky is clear</td>\n",
       "      <td>2017-09-29 19:00:00</td>\n",
       "      <td>4498</td>\n",
       "    </tr>\n",
       "    <tr>\n",
       "      <th>38676</th>\n",
       "      <td>NaN</td>\n",
       "      <td>278.720</td>\n",
       "      <td>0.000</td>\n",
       "      <td>0.000</td>\n",
       "      <td>90</td>\n",
       "      <td>Drizzle</td>\n",
       "      <td>light intensity drizzle</td>\n",
       "      <td>2017-11-05 01:00:00</td>\n",
       "      <td>629</td>\n",
       "    </tr>\n",
       "    <tr>\n",
       "      <th>38677</th>\n",
       "      <td>NaN</td>\n",
       "      <td>278.720</td>\n",
       "      <td>0.000</td>\n",
       "      <td>0.000</td>\n",
       "      <td>90</td>\n",
       "      <td>Mist</td>\n",
       "      <td>mist</td>\n",
       "      <td>2017-11-05 01:00:00</td>\n",
       "      <td>629</td>\n",
       "    </tr>\n",
       "    <tr>\n",
       "      <th>39527</th>\n",
       "      <td>NaN</td>\n",
       "      <td>266.220</td>\n",
       "      <td>0.000</td>\n",
       "      <td>0.000</td>\n",
       "      <td>1</td>\n",
       "      <td>Clear</td>\n",
       "      <td>sky is clear</td>\n",
       "      <td>2017-12-05 18:00:00</td>\n",
       "      <td>3936</td>\n",
       "    </tr>\n",
       "    <tr>\n",
       "      <th>48173</th>\n",
       "      <td>NaN</td>\n",
       "      <td>280.680</td>\n",
       "      <td>0.000</td>\n",
       "      <td>0.000</td>\n",
       "      <td>90</td>\n",
       "      <td>Clouds</td>\n",
       "      <td>overcast clouds</td>\n",
       "      <td>2018-09-29 19:00:00</td>\n",
       "      <td>3818</td>\n",
       "    </tr>\n",
       "  </tbody>\n",
       "</table>\n",
       "</div>"
      ],
      "text/plain": [
       "      holiday    temp  rain_1h  snow_1h  clouds_all  weather_main   \n",
       "18697     NaN 286.290    0.000    0.000           1         Clear  \\\n",
       "23851     NaN 289.060    0.000    0.000          90        Clouds   \n",
       "26784     NaN 289.775    0.000    0.000          56        Clouds   \n",
       "26980     NaN 287.860    0.000    0.000           0         Clear   \n",
       "27171     NaN 279.287    0.000    0.000          56        Clouds   \n",
       "28879     NaN 267.890    0.000    0.000          90          Snow   \n",
       "29268     NaN 254.220    0.000    0.000           1         Clear   \n",
       "34711     NaN 295.010    0.000    0.000          40        Clouds   \n",
       "34967     NaN 292.840    0.000    0.000           1         Clear   \n",
       "34969     NaN 294.520    0.000    0.000           1         Clear   \n",
       "34971     NaN 295.770    0.000    0.000          75        Clouds   \n",
       "34973     NaN 296.950    0.000    0.000           1  Thunderstorm   \n",
       "37572     NaN 288.890    0.000    0.000           1         Clear   \n",
       "38676     NaN 278.720    0.000    0.000          90       Drizzle   \n",
       "38677     NaN 278.720    0.000    0.000          90          Mist   \n",
       "39527     NaN 266.220    0.000    0.000           1         Clear   \n",
       "48173     NaN 280.680    0.000    0.000          90        Clouds   \n",
       "\n",
       "           weather_description            date_time  traffic_volume  \n",
       "18697             sky is clear  2015-09-30 19:00:00            3679  \n",
       "23851          overcast clouds  2016-06-01 10:00:00            4831  \n",
       "26784            broken clouds  2016-09-21 15:00:00            5365  \n",
       "26980             Sky is Clear  2016-09-29 19:00:00            3435  \n",
       "27171            broken clouds  2016-10-07 18:00:00            4642  \n",
       "28879               light snow  2016-12-06 18:00:00            4520  \n",
       "29268             sky is clear  2016-12-19 00:00:00             420  \n",
       "34711         scattered clouds  2017-06-21 11:00:00            4808  \n",
       "34967             sky is clear  2017-06-30 10:00:00            4638  \n",
       "34969             sky is clear  2017-06-30 11:00:00            4725  \n",
       "34971            broken clouds  2017-06-30 12:00:00            5229  \n",
       "34973             thunderstorm  2017-06-30 13:00:00            5263  \n",
       "37572             sky is clear  2017-09-29 19:00:00            4498  \n",
       "38676  light intensity drizzle  2017-11-05 01:00:00             629  \n",
       "38677                     mist  2017-11-05 01:00:00             629  \n",
       "39527             sky is clear  2017-12-05 18:00:00            3936  \n",
       "48173          overcast clouds  2018-09-29 19:00:00            3818  "
      ]
     },
     "execution_count": 121,
     "metadata": {},
     "output_type": "execute_result"
    }
   ],
   "source": [
    "# Show number of duplicated rows\n",
    "print(f\"No. of entirely duplicated rows: {traffic.duplicated().sum()}\")\n",
    "\n",
    "# Show duplicated rows\n",
    "traffic[traffic.duplicated()]"
   ]
  },
  {
   "attachments": {},
   "cell_type": "markdown",
   "id": "8d11d5a3",
   "metadata": {},
   "source": [
    "#### Check Uniqueness of Data"
   ]
  },
  {
   "cell_type": "code",
   "execution_count": 122,
   "id": "4c863f15",
   "metadata": {},
   "outputs": [
    {
     "name": "stdout",
     "output_type": "stream",
     "text": [
      "---- Number of Unique Values -----\n",
      "holiday                   11\n",
      "weather_main              11\n",
      "snow_1h                   12\n",
      "weather_description       38\n",
      "clouds_all                60\n",
      "rain_1h                  372\n",
      "temp                    5843\n",
      "traffic_volume          6704\n",
      "date_time              40575\n",
      "dtype: int64\n"
     ]
    }
   ],
   "source": [
    "# Print the number of unique values\n",
    "num_unique = traffic.nunique().sort_values()\n",
    "print('---- Number of Unique Values -----')\n",
    "print(num_unique)"
   ]
  },
  {
   "attachments": {},
   "cell_type": "markdown",
   "id": "d4656ff2",
   "metadata": {},
   "source": [
    "#### Check Data Range"
   ]
  },
  {
   "cell_type": "code",
   "execution_count": 123,
   "id": "ea776072",
   "metadata": {},
   "outputs": [
    {
     "data": {
      "text/html": [
       "<div>\n",
       "<style scoped>\n",
       "    .dataframe tbody tr th:only-of-type {\n",
       "        vertical-align: middle;\n",
       "    }\n",
       "\n",
       "    .dataframe tbody tr th {\n",
       "        vertical-align: top;\n",
       "    }\n",
       "\n",
       "    .dataframe thead th {\n",
       "        text-align: right;\n",
       "    }\n",
       "</style>\n",
       "<table border=\"1\" class=\"dataframe\">\n",
       "  <thead>\n",
       "    <tr style=\"text-align: right;\">\n",
       "      <th></th>\n",
       "      <th>holiday</th>\n",
       "      <th>temp</th>\n",
       "      <th>rain_1h</th>\n",
       "      <th>snow_1h</th>\n",
       "      <th>clouds_all</th>\n",
       "      <th>weather_main</th>\n",
       "      <th>weather_description</th>\n",
       "      <th>date_time</th>\n",
       "      <th>traffic_volume</th>\n",
       "    </tr>\n",
       "  </thead>\n",
       "  <tbody>\n",
       "    <tr>\n",
       "      <th>count</th>\n",
       "      <td>61</td>\n",
       "      <td>48,204.000</td>\n",
       "      <td>48,204.000</td>\n",
       "      <td>48,204.000</td>\n",
       "      <td>48,204.000</td>\n",
       "      <td>48204</td>\n",
       "      <td>48204</td>\n",
       "      <td>48204</td>\n",
       "      <td>48,204.000</td>\n",
       "    </tr>\n",
       "    <tr>\n",
       "      <th>unique</th>\n",
       "      <td>11</td>\n",
       "      <td>NaN</td>\n",
       "      <td>NaN</td>\n",
       "      <td>NaN</td>\n",
       "      <td>NaN</td>\n",
       "      <td>11</td>\n",
       "      <td>38</td>\n",
       "      <td>40575</td>\n",
       "      <td>NaN</td>\n",
       "    </tr>\n",
       "    <tr>\n",
       "      <th>top</th>\n",
       "      <td>Labor Day</td>\n",
       "      <td>NaN</td>\n",
       "      <td>NaN</td>\n",
       "      <td>NaN</td>\n",
       "      <td>NaN</td>\n",
       "      <td>Clouds</td>\n",
       "      <td>sky is clear</td>\n",
       "      <td>2013-05-19 10:00:00</td>\n",
       "      <td>NaN</td>\n",
       "    </tr>\n",
       "    <tr>\n",
       "      <th>freq</th>\n",
       "      <td>7</td>\n",
       "      <td>NaN</td>\n",
       "      <td>NaN</td>\n",
       "      <td>NaN</td>\n",
       "      <td>NaN</td>\n",
       "      <td>15164</td>\n",
       "      <td>11665</td>\n",
       "      <td>6</td>\n",
       "      <td>NaN</td>\n",
       "    </tr>\n",
       "    <tr>\n",
       "      <th>mean</th>\n",
       "      <td>NaN</td>\n",
       "      <td>281.206</td>\n",
       "      <td>0.334</td>\n",
       "      <td>0.000</td>\n",
       "      <td>49.362</td>\n",
       "      <td>NaN</td>\n",
       "      <td>NaN</td>\n",
       "      <td>NaN</td>\n",
       "      <td>3,259.818</td>\n",
       "    </tr>\n",
       "    <tr>\n",
       "      <th>std</th>\n",
       "      <td>NaN</td>\n",
       "      <td>13.338</td>\n",
       "      <td>44.789</td>\n",
       "      <td>0.008</td>\n",
       "      <td>39.016</td>\n",
       "      <td>NaN</td>\n",
       "      <td>NaN</td>\n",
       "      <td>NaN</td>\n",
       "      <td>1,986.861</td>\n",
       "    </tr>\n",
       "    <tr>\n",
       "      <th>min</th>\n",
       "      <td>NaN</td>\n",
       "      <td>0.000</td>\n",
       "      <td>0.000</td>\n",
       "      <td>0.000</td>\n",
       "      <td>0.000</td>\n",
       "      <td>NaN</td>\n",
       "      <td>NaN</td>\n",
       "      <td>NaN</td>\n",
       "      <td>0.000</td>\n",
       "    </tr>\n",
       "    <tr>\n",
       "      <th>25%</th>\n",
       "      <td>NaN</td>\n",
       "      <td>272.160</td>\n",
       "      <td>0.000</td>\n",
       "      <td>0.000</td>\n",
       "      <td>1.000</td>\n",
       "      <td>NaN</td>\n",
       "      <td>NaN</td>\n",
       "      <td>NaN</td>\n",
       "      <td>1,193.000</td>\n",
       "    </tr>\n",
       "    <tr>\n",
       "      <th>50%</th>\n",
       "      <td>NaN</td>\n",
       "      <td>282.450</td>\n",
       "      <td>0.000</td>\n",
       "      <td>0.000</td>\n",
       "      <td>64.000</td>\n",
       "      <td>NaN</td>\n",
       "      <td>NaN</td>\n",
       "      <td>NaN</td>\n",
       "      <td>3,380.000</td>\n",
       "    </tr>\n",
       "    <tr>\n",
       "      <th>75%</th>\n",
       "      <td>NaN</td>\n",
       "      <td>291.806</td>\n",
       "      <td>0.000</td>\n",
       "      <td>0.000</td>\n",
       "      <td>90.000</td>\n",
       "      <td>NaN</td>\n",
       "      <td>NaN</td>\n",
       "      <td>NaN</td>\n",
       "      <td>4,933.000</td>\n",
       "    </tr>\n",
       "    <tr>\n",
       "      <th>max</th>\n",
       "      <td>NaN</td>\n",
       "      <td>310.070</td>\n",
       "      <td>9,831.300</td>\n",
       "      <td>0.510</td>\n",
       "      <td>100.000</td>\n",
       "      <td>NaN</td>\n",
       "      <td>NaN</td>\n",
       "      <td>NaN</td>\n",
       "      <td>7,280.000</td>\n",
       "    </tr>\n",
       "  </tbody>\n",
       "</table>\n",
       "</div>"
      ],
      "text/plain": [
       "          holiday       temp    rain_1h    snow_1h  clouds_all weather_main   \n",
       "count          61 48,204.000 48,204.000 48,204.000  48,204.000        48204  \\\n",
       "unique         11        NaN        NaN        NaN         NaN           11   \n",
       "top     Labor Day        NaN        NaN        NaN         NaN       Clouds   \n",
       "freq            7        NaN        NaN        NaN         NaN        15164   \n",
       "mean          NaN    281.206      0.334      0.000      49.362          NaN   \n",
       "std           NaN     13.338     44.789      0.008      39.016          NaN   \n",
       "min           NaN      0.000      0.000      0.000       0.000          NaN   \n",
       "25%           NaN    272.160      0.000      0.000       1.000          NaN   \n",
       "50%           NaN    282.450      0.000      0.000      64.000          NaN   \n",
       "75%           NaN    291.806      0.000      0.000      90.000          NaN   \n",
       "max           NaN    310.070  9,831.300      0.510     100.000          NaN   \n",
       "\n",
       "       weather_description            date_time  traffic_volume  \n",
       "count                48204                48204      48,204.000  \n",
       "unique                  38                40575             NaN  \n",
       "top           sky is clear  2013-05-19 10:00:00             NaN  \n",
       "freq                 11665                    6             NaN  \n",
       "mean                   NaN                  NaN       3,259.818  \n",
       "std                    NaN                  NaN       1,986.861  \n",
       "min                    NaN                  NaN           0.000  \n",
       "25%                    NaN                  NaN       1,193.000  \n",
       "50%                    NaN                  NaN       3,380.000  \n",
       "75%                    NaN                  NaN       4,933.000  \n",
       "max                    NaN                  NaN       7,280.000  "
      ]
     },
     "execution_count": 123,
     "metadata": {},
     "output_type": "execute_result"
    }
   ],
   "source": [
    "# Print summary statistics\n",
    "traffic.describe(include='all')"
   ]
  },
  {
   "attachments": {},
   "cell_type": "markdown",
   "id": "b5bd35fa",
   "metadata": {},
   "source": [
    "### Areas to Fix\n",
    "**Data Types**\n",
    "- `date_time` should be a **datetime** type instead.\n",
    "\n",
    "**Missing Data**\n",
    "- `holiday` column has a significant amount of missing data, which likely is indicative of a \"normal\" day not a holiday \n",
    "\n",
    "**Duplicate Rows**\n",
    "- 17 duplicate rows to be removed\n",
    "\n",
    "**Uniqueness of Data**\n",
    "- Data uniqueness does not pose a concern\n",
    "\n",
    "**Data Range**\n",
    "- `rain_1h` and `snow_1h` both have a fairly limited range of data, however it appears that `rain_1h` may have an erroneous entry for it's maximum value "
   ]
  },
  {
   "attachments": {},
   "cell_type": "markdown",
   "id": "d72d4d40",
   "metadata": {},
   "source": [
    "---"
   ]
  },
  {
   "cell_type": "markdown",
   "id": "e7fa95fc",
   "metadata": {},
   "source": [
    "# 3"
   ]
  },
  {
   "attachments": {},
   "cell_type": "markdown",
   "id": "017baefc",
   "metadata": {},
   "source": [
    "## Data Preprocessing"
   ]
  },
  {
   "attachments": {},
   "cell_type": "markdown",
   "id": "7e23ddbf",
   "metadata": {},
   "source": [
    "Here you can add sections like:\n",
    "\n",
    "- Renaming columns\n",
    "- Drop Redundant Columns\n",
    "- Changing Data Types\n",
    "- Dropping Duplicates\n",
    "- Handling Missing Values\n",
    "- Handling Unreasonable Data Ranges\n",
    "- Feature Engineering / Transformation\n",
    "\n",
    "Use `assert` where possible to show that preprocessing is done."
   ]
  },
  {
   "attachments": {},
   "cell_type": "markdown",
   "id": "09f3d915",
   "metadata": {},
   "source": [
    "### Rename Columns"
   ]
  },
  {
   "cell_type": "code",
   "execution_count": 124,
   "id": "4aa93e76",
   "metadata": {},
   "outputs": [],
   "source": [
    "# Rename columns\n",
    "columns_to_rename = {\n",
    "    'holiday':'holiday',\n",
    "    'temp':'temp_K',\n",
    "    'rain_1h':'rain_mmph',\n",
    "    'snow_1h':'snow_mmph',\n",
    "    'clouds_all':'cloudcover',\n",
    "    'weather_main':'weather_main',\n",
    "    'weather_description':'weather_description',\n",
    "    'date_time':'date_time',\n",
    "    'traffic_volume':'traffic_volume'\n",
    "}\n",
    "traffic.rename(columns=columns_to_rename, inplace=True)"
   ]
  },
  {
   "cell_type": "code",
   "execution_count": 125,
   "id": "e24457a7",
   "metadata": {},
   "outputs": [
    {
     "data": {
      "text/plain": [
       "Index(['holiday', 'temp_K', 'rain_mmph', 'snow_mmph', 'cloudcover',\n",
       "       'weather_main', 'weather_description', 'date_time', 'traffic_volume'],\n",
       "      dtype='object')"
      ]
     },
     "execution_count": 125,
     "metadata": {},
     "output_type": "execute_result"
    }
   ],
   "source": [
    "# Verify columns are renamed\n",
    "traffic.columns"
   ]
  },
  {
   "attachments": {},
   "cell_type": "markdown",
   "id": "fae53811",
   "metadata": {},
   "source": [
    "### Drop Redundant Columns"
   ]
  },
  {
   "cell_type": "code",
   "execution_count": 126,
   "id": "0d650ef8",
   "metadata": {},
   "outputs": [
    {
     "name": "stdout",
     "output_type": "stream",
     "text": [
      "---- Frequency of the Mode (%) -----\n"
     ]
    },
    {
     "data": {
      "text/plain": [
       "holiday                0.015\n",
       "temp_K                 0.266\n",
       "rain_mmph             92.808\n",
       "snow_mmph             99.869\n",
       "cloudcover            34.109\n",
       "weather_main          31.458\n",
       "weather_description   24.199\n",
       "date_time              0.012\n",
       "traffic_volume         0.104\n",
       "dtype: float64"
      ]
     },
     "execution_count": 126,
     "metadata": {},
     "output_type": "execute_result"
    }
   ],
   "source": [
    "# Check the proportion of the most frequent value in each column\n",
    "print('---- Frequency of the Mode (%) -----')\n",
    "mode_dict = {col: (traffic[col].value_counts().iat[0] / traffic[col].size * 100) for col in traffic.columns}\n",
    "mode_series = pd.Series(mode_dict)\n",
    "mode_series"
   ]
  },
  {
   "cell_type": "code",
   "execution_count": 127,
   "id": "da816089",
   "metadata": {},
   "outputs": [
    {
     "name": "stdout",
     "output_type": "stream",
     "text": [
      "rain_mmph\n",
      "0.000    44737\n",
      "0.250      948\n",
      "0.510      256\n",
      "1.020      123\n",
      "0.300      121\n",
      "         ...  \n",
      "1.280        1\n",
      "1.470        1\n",
      "4.660        1\n",
      "2.080        1\n",
      "2.350        1\n",
      "Name: count, Length: 372, dtype: int64\n",
      "\n",
      "snow_mmph\n",
      "0.000    48141\n",
      "0.050       14\n",
      "0.060       12\n",
      "0.510        6\n",
      "0.250        6\n",
      "0.130        6\n",
      "0.100        6\n",
      "0.320        5\n",
      "0.170        3\n",
      "0.440        2\n",
      "0.080        2\n",
      "0.210        1\n",
      "Name: count, dtype: int64\n",
      "\n"
     ]
    }
   ],
   "source": [
    "# Show the value frequency of each column greater than the mode's threshold\n",
    "threshold = 80\n",
    "for col in mode_series[mode_series > threshold].index:\n",
    "    print(traffic[col].value_counts(dropna=False))\n",
    "    print()"
   ]
  },
  {
   "attachments": {},
   "cell_type": "markdown",
   "id": "af43acca",
   "metadata": {},
   "source": [
    "Despite both of these columns having limited range of data, both are highly important to the intent of this analysis. The `snow_mmph` column will need to be considered very cautiously due to it's lack of diversity in data. "
   ]
  },
  {
   "attachments": {},
   "cell_type": "markdown",
   "id": "c71c38ca",
   "metadata": {},
   "source": [
    "### Changing Data Types"
   ]
  },
  {
   "cell_type": "code",
   "execution_count": 128,
   "id": "9908ba2e",
   "metadata": {},
   "outputs": [],
   "source": [
    "# Convert columns to the right data types\n",
    "traffic['date_time'] = pd.to_datetime(traffic['date_time'], infer_datetime_format=True)"
   ]
  },
  {
   "cell_type": "code",
   "execution_count": 129,
   "id": "fdf8602c",
   "metadata": {},
   "outputs": [],
   "source": [
    "# Verify conversion\n",
    "assert ptypes.is_datetime64_any_dtype(traffic['date_time']) "
   ]
  },
  {
   "attachments": {},
   "cell_type": "markdown",
   "id": "4dab1e1e",
   "metadata": {},
   "source": [
    "### Dropping Duplicates"
   ]
  },
  {
   "cell_type": "code",
   "execution_count": 130,
   "id": "b1f72d31",
   "metadata": {},
   "outputs": [],
   "source": [
    "# Drop entirely duplicated rows\n",
    "traffic.drop_duplicates(inplace=True, ignore_index=True)"
   ]
  },
  {
   "cell_type": "code",
   "execution_count": 131,
   "id": "f7e04985",
   "metadata": {},
   "outputs": [],
   "source": [
    "# Verify rows dropped\n",
    "assert traffic.duplicated().sum()==0"
   ]
  },
  {
   "attachments": {},
   "cell_type": "markdown",
   "id": "a6d0ee59",
   "metadata": {},
   "source": [
    "### Handling Missing Values"
   ]
  },
  {
   "cell_type": "code",
   "execution_count": 132,
   "id": "1033d2c7",
   "metadata": {},
   "outputs": [],
   "source": [
    "traffic['holiday'].fillna('na', inplace=True)"
   ]
  },
  {
   "cell_type": "code",
   "execution_count": 133,
   "id": "db91817a",
   "metadata": {},
   "outputs": [
    {
     "name": "stdout",
     "output_type": "stream",
     "text": [
      "<class 'pandas.core.frame.DataFrame'>\n",
      "RangeIndex: 48187 entries, 0 to 48186\n",
      "Data columns (total 9 columns):\n",
      " #   Column               Non-Null Count  Dtype         \n",
      "---  ------               --------------  -----         \n",
      " 0   holiday              48187 non-null  object        \n",
      " 1   temp_K               48187 non-null  float64       \n",
      " 2   rain_mmph            48187 non-null  float64       \n",
      " 3   snow_mmph            48187 non-null  float64       \n",
      " 4   cloudcover           48187 non-null  int64         \n",
      " 5   weather_main         48187 non-null  object        \n",
      " 6   weather_description  48187 non-null  object        \n",
      " 7   date_time            48187 non-null  datetime64[ns]\n",
      " 8   traffic_volume       48187 non-null  int64         \n",
      "dtypes: datetime64[ns](1), float64(3), int64(2), object(3)\n",
      "memory usage: 3.3+ MB\n"
     ]
    }
   ],
   "source": [
    "traffic.info()"
   ]
  },
  {
   "attachments": {},
   "cell_type": "markdown",
   "id": "aba182c3",
   "metadata": {},
   "source": [
    "### Handling Unreasonable Data Ranges"
   ]
  },
  {
   "cell_type": "code",
   "execution_count": 134,
   "id": "1dd6b930",
   "metadata": {},
   "outputs": [
    {
     "data": {
      "text/plain": [
       "count   48,187.000\n",
       "mean         0.334\n",
       "std         44.797\n",
       "min          0.000\n",
       "25%          0.000\n",
       "50%          0.000\n",
       "75%          0.000\n",
       "max      9,831.300\n",
       "Name: rain_mmph, dtype: float64"
      ]
     },
     "execution_count": 134,
     "metadata": {},
     "output_type": "execute_result"
    }
   ],
   "source": [
    "traffic['rain_mmph'].describe()"
   ]
  },
  {
   "attachments": {},
   "cell_type": "markdown",
   "id": "8bcb6ab5",
   "metadata": {},
   "source": [
    "After looking into what reasonable amounts of rain in an hour are, it seems fairly standard that anything greater than 50 mm of rain in 1 hour is considered violent. After evaluating which rows indicate greater than 60 mm of rain per hour, appropriate rows will be dropped."
   ]
  },
  {
   "cell_type": "code",
   "execution_count": 135,
   "id": "581affc9",
   "metadata": {},
   "outputs": [
    {
     "name": "stdout",
     "output_type": "stream",
     "text": [
      "      holiday  temp_K  rain_mmph  snow_mmph  cloudcover weather_main   \n",
      "24870      na 302.110  9,831.300      0.000          75         Rain  \\\n",
      "\n",
      "      weather_description           date_time  traffic_volume  \n",
      "24870     very heavy rain 2016-07-11 17:00:00            5535  \n"
     ]
    }
   ],
   "source": [
    "print(traffic[traffic.rain_mmph > 60])"
   ]
  },
  {
   "cell_type": "code",
   "execution_count": 136,
   "id": "651e705f",
   "metadata": {},
   "outputs": [
    {
     "name": "stdout",
     "output_type": "stream",
     "text": [
      "48186\n"
     ]
    }
   ],
   "source": [
    "traffic = traffic[traffic.rain_mmph < 60]\n",
    "print(len(traffic))"
   ]
  },
  {
   "attachments": {},
   "cell_type": "markdown",
   "id": "f7edbaad",
   "metadata": {},
   "source": [
    "---"
   ]
  },
  {
   "cell_type": "markdown",
   "id": "a7aa69cf",
   "metadata": {},
   "source": [
    "# 4"
   ]
  },
  {
   "attachments": {},
   "cell_type": "markdown",
   "id": "934c3750",
   "metadata": {},
   "source": [
    "## Exploratory Data Analysis"
   ]
  },
  {
   "cell_type": "markdown",
   "id": "5289a18f",
   "metadata": {},
   "source": [
    "Here is where your analysis begins. You can add different sections based on your project goals."
   ]
  },
  {
   "attachments": {},
   "cell_type": "markdown",
   "id": "c14145e8",
   "metadata": {},
   "source": [
    "### Exploring `Column Name`"
   ]
  },
  {
   "cell_type": "code",
   "execution_count": 137,
   "id": "1da79ee9",
   "metadata": {},
   "outputs": [],
   "source": [
    "# Code and visualization"
   ]
  },
  {
   "attachments": {},
   "cell_type": "markdown",
   "id": "cc6a1f0f",
   "metadata": {},
   "source": [
    "**Observations**\n",
    "- Ob 1\n",
    "- Ob 2\n",
    "- Ob 3"
   ]
  },
  {
   "attachments": {},
   "cell_type": "markdown",
   "id": "523b06e7",
   "metadata": {},
   "source": [
    "---"
   ]
  },
  {
   "cell_type": "markdown",
   "id": "46c6b6e1",
   "metadata": {},
   "source": [
    "# 5"
   ]
  },
  {
   "attachments": {},
   "cell_type": "markdown",
   "id": "0bc7ba8f",
   "metadata": {},
   "source": [
    "## Conclusion\n",
    "\n",
    "### Insights \n",
    "State the insights/outcomes of your project or notebook."
   ]
  },
  {
   "attachments": {},
   "cell_type": "markdown",
   "id": "4a9e7097",
   "metadata": {},
   "source": [
    "### Suggestions\n",
    "\n",
    "Make suggestions based on insights."
   ]
  },
  {
   "attachments": {},
   "cell_type": "markdown",
   "id": "9a712d72",
   "metadata": {},
   "source": [
    "### Possible Next Steps\n",
    "Areas to expand on:\n",
    "- (if there is any)"
   ]
  },
  {
   "attachments": {},
   "cell_type": "markdown",
   "id": "3a580798",
   "metadata": {},
   "source": [
    "---"
   ]
  },
  {
   "cell_type": "markdown",
   "id": "81cfcf8f",
   "metadata": {},
   "source": [
    "# 6"
   ]
  },
  {
   "attachments": {},
   "cell_type": "markdown",
   "id": "98b654b3",
   "metadata": {},
   "source": [
    "## Epilogue\n",
    "\n",
    "### References\n",
    "\n",
    "This is how we use inline citation[<sup id=\"fn1-back\">[1]</sup>](#fn1).\n",
    "\n",
    "[<span id=\"fn1\">1.</span>](#fn1-back) _subject (date)._ Title. Available at: https://website.com (Accessed: Date). \n",
    "\n",
    "> Use [https://www.citethisforme.com/](https://www.citethisforme.com/) to create citations."
   ]
  },
  {
   "attachments": {},
   "cell_type": "markdown",
   "id": "1257372b",
   "metadata": {},
   "source": [
    "### Versioning\n",
    "Notebook and insights by (author).\n",
    "- Version: 1.0.0\n",
    "- Date: "
   ]
  }
 ],
 "metadata": {
  "kernelspec": {
   "display_name": "Python 3",
   "language": "python",
   "name": "python3"
  },
  "language_info": {
   "codemirror_mode": {
    "name": "ipython",
    "version": 3
   },
   "file_extension": ".py",
   "mimetype": "text/x-python",
   "name": "python",
   "nbconvert_exporter": "python",
   "pygments_lexer": "ipython3",
   "version": "3.11.3"
  },
  "vscode": {
   "interpreter": {
    "hash": "b0fa6594d8f4cbf19f97940f81e996739fb7646882a419484c72d19e05852a7e"
   }
  }
 },
 "nbformat": 4,
 "nbformat_minor": 5
}
