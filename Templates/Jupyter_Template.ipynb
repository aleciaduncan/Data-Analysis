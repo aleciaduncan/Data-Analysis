{
 "cells": [
  {
   "cell_type": "markdown",
   "id": "6d2e410e",
   "metadata": {},
   "source": [
    "# Insert Title Here"
   ]
  },
  {
   "cell_type": "markdown",
   "id": "11138c3d",
   "metadata": {},
   "source": [
    "## Table of Contents\n",
    "\n",
    "1. [**Introduction**](#1)\n",
    "\t- Project Description\n",
    "    - Data Description\n",
    "2. [**Acquiring and Loading Data**](#2)\n",
    "\t- Importing Libraries\n",
    "    - Reading in Data\n",
    "    - Exploring Data\n",
    "3. [**Data Cleaning**](#3)\n",
    "4. [**Data Analysis & Visualization**](#4)\n",
    "5. [**Conclusion**](#5)\n",
    "6. [**References**](#5) (if needed)"
   ]
  },
  {
   "cell_type": "code",
   "execution_count": null,
   "id": "985fe746",
   "metadata": {},
   "outputs": [],
   "source": []
  },
  {
   "cell_type": "markdown",
   "id": "58c986fc",
   "metadata": {},
   "source": [
    "## Introduction\n",
    "\n",
    "Insert Image Here (by dragging it)\n",
    "\n",
    "**Goal/Purpose:** State the goal/purpose of your project or notebook.\n",
    "\n",
    "**Questions to be Answered:**\n",
    "\n",
    "- Question 1\n",
    "- Question 2\n",
    "- Question 3...\n",
    "\n",
    "**Approach Taken/Methodology:** Briefly describe assumptions and processing steps.\n",
    "\n",
    "**Results:** Describe and comment the most important results.\n",
    "\n",
    "### Data Description\n",
    "**Content:** This data file contains all the details required to learn more about _ _ _, perform analysis, and come to conclusions.\n",
    "\n",
    "**Description of dataset:** Here you can describe what each column represents.\n",
    "\n",
    "- \n",
    "- \n",
    "- \n",
    "- \n",
    "- \n",
    "- \n",
    "- \n",
    "\n",
    "**Acknowledgements:** This public dataset on _ is part of _, and the original source can be found on _ website. (You can add hyperlinks here as a route to the original dataset's website)."
   ]
  },
  {
   "cell_type": "markdown",
   "id": "27cb5f7b",
   "metadata": {},
   "source": [
    "# 2"
   ]
  },
  {
   "cell_type": "markdown",
   "id": "5aff919e",
   "metadata": {},
   "source": [
    "## Acquiring and Loading Data\n",
    "### Library Import\n",
    "\n",
    "Import all necessary Python library here."
   ]
  },
  {
   "cell_type": "code",
   "execution_count": 1,
   "id": "2d3c91f4",
   "metadata": {},
   "outputs": [],
   "source": [
    "# Ignore warnings if needed\n",
    "import warnings\n",
    "warnings.filterwarnings('ignore')\n",
    "\n",
    "# Data manipulation\n",
    "import pandas as pd\n",
    "import numpy as np\n",
    "\n",
    "# Avoiding display if needed\n",
    "pd.options.display.max_columns = 30\n",
    "pd.options.display.max_colwidth = 60\n",
    "pd.options.display.float_format = '{:,.3f}'.format\n",
    "\n",
    "# Visualizations\n",
    "import matplotlib as plt\n",
    "%matplotlib inline\n",
    "import seaborn as sns"
   ]
  },
  {
   "cell_type": "markdown",
   "id": "9b4388c3",
   "metadata": {},
   "source": [
    "### Reading in Data\n",
    "Import all necessary data here."
   ]
  },
  {
   "cell_type": "code",
   "execution_count": 2,
   "id": "d9db55db",
   "metadata": {},
   "outputs": [],
   "source": [
    "#name = pd.read_csv('file.csv')"
   ]
  },
  {
   "cell_type": "markdown",
   "id": "e7fa95fc",
   "metadata": {},
   "source": [
    "# 3"
   ]
  },
  {
   "cell_type": "markdown",
   "id": "017baefc",
   "metadata": {},
   "source": [
    "## Data Cleaning"
   ]
  },
  {
   "cell_type": "markdown",
   "id": "7e23ddbf",
   "metadata": {},
   "source": [
    "Here you can add sections like:\n",
    "\n",
    "- Deleting Redundant Columns\n",
    "- Dropping Duplicates\n",
    "- Cleaning Individual Columns\n",
    "- Removing NaN Values\n",
    "- Transformations"
   ]
  },
  {
   "cell_type": "markdown",
   "id": "a7aa69cf",
   "metadata": {},
   "source": [
    "# 4"
   ]
  },
  {
   "cell_type": "markdown",
   "id": "934c3750",
   "metadata": {},
   "source": [
    "## Data Analysis & Visualization"
   ]
  },
  {
   "cell_type": "markdown",
   "id": "5289a18f",
   "metadata": {},
   "source": [
    "Here is where your analysis begins. You can add different sections based on your project goals."
   ]
  },
  {
   "cell_type": "markdown",
   "id": "46c6b6e1",
   "metadata": {},
   "source": [
    "# 5"
   ]
  },
  {
   "cell_type": "markdown",
   "id": "0bc7ba8f",
   "metadata": {},
   "source": [
    "## Conclusion\n",
    "\n",
    "**Insights:** State the insights/outcomes of your project or notebook.\n",
    "\n",
    "**Suggestions:** (if there is any)"
   ]
  },
  {
   "cell_type": "markdown",
   "id": "81cfcf8f",
   "metadata": {},
   "source": [
    "# 6"
   ]
  },
  {
   "cell_type": "markdown",
   "id": "1257372b",
   "metadata": {},
   "source": [
    "## References\n",
    "Any references if needed:\n",
    "\n",
    "Blah Blah [see @john786, pp. 23-27; also @white05, chap. 3]."
   ]
  }
 ],
 "metadata": {
  "kernelspec": {
   "display_name": "Python 3 (ipykernel)",
   "language": "python",
   "name": "python3"
  },
  "language_info": {
   "codemirror_mode": {
    "name": "ipython",
    "version": 3
   },
   "file_extension": ".py",
   "mimetype": "text/x-python",
   "name": "python",
   "nbconvert_exporter": "python",
   "pygments_lexer": "ipython3",
   "version": "3.8.11"
  }
 },
 "nbformat": 4,
 "nbformat_minor": 5
}
